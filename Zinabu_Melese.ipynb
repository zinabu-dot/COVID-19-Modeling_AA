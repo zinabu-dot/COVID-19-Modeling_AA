{
  "nbformat": 4,
  "nbformat_minor": 0,
  "metadata": {
    "colab": {
      "name": "Zinabu Melese.ipynb",
      "provenance": [],
      "authorship_tag": "ABX9TyMSmNZuuswpXroSot7qYsTY",
      "include_colab_link": true
    },
    "kernelspec": {
      "name": "python3",
      "display_name": "Python 3"
    },
    "language_info": {
      "name": "python"
    }
  },
  "cells": [
    {
      "cell_type": "markdown",
      "metadata": {
        "id": "view-in-github",
        "colab_type": "text"
      },
      "source": [
        "<a href=\"https://colab.research.google.com/github/zinabu-dot/COVID-19-Modeling_AA/blob/master/Zinabu_Melese.ipynb\" target=\"_parent\"><img src=\"https://colab.research.google.com/assets/colab-badge.svg\" alt=\"Open In Colab\"/></a>"
      ]
    },
    {
      "cell_type": "markdown",
      "source": [
        "## **Assignment for Stock prediction**\n",
        "---\n",
        "* The business problem appears to focus on making an **investment** on McDonald’s stock (MCD) if at least **10% profit** is about to earn in the next 10 working days following the purchase day. \n",
        "\n",
        "* Considering the nature of the challenge (as already stated in the assignment document), the assignment is a **classification (binary)** problem. \n",
        "\n",
        "* The dataset for this challenge are based on [Raboresearch_label_data](https://docs.google.com/uc?export=download&id=1cp5YFvszZuFw3IusD6EWKfL8AeCSf9Lg) and [Raboresearch_feature_data](https://docs.google.com/uc?export=download&id=1BawB1Zm43rmk7HMftFWnwizN-cyd7nnD) and can be accessed using the following commands."
      ],
      "metadata": {
        "id": "RMErvRelN6UW"
      }
    },
    {
      "cell_type": "code",
      "source": [
        "!wget -O label_raw.csv 'https://docs.google.com/uc?export=download&id=1cp5YFvszZuFw3IusD6EWKfL8AeCSf9Lg' -q --show-progress\n",
        "!wget -O features.zip 'https://docs.google.com/uc?export=download&id=1BawB1Zm43rmk7HMftFWnwizN-cyd7nnD' -q --show-progress \n",
        "!unzip features.zip \n",
        "!ls"
      ],
      "metadata": {
        "colab": {
          "base_uri": "https://localhost:8080/"
        },
        "id": "ehitg0QxR3yR",
        "outputId": "2a897ca0-640e-486b-b923-fdf3eaae7de4"
      },
      "execution_count": 5,
      "outputs": [
        {
          "output_type": "stream",
          "name": "stdout",
          "text": [
            "label_raw.csv       100%[===================>] 937.80K  --.-KB/s    in 0.008s  \n",
            "features.zip        100%[===================>]   2.03M  --.-KB/s    in 0.01s   \n",
            "Archive:  features.zip\n",
            "  inflating: features.xlsx           \n",
            "features.xlsx  features.zip  label_raw.csv  sample_data\n"
          ]
        }
      ]
    },
    {
      "cell_type": "markdown",
      "source": [
        "---\n",
        "## **Import** libraries\n",
        "---"
      ],
      "metadata": {
        "id": "mSyyIunlScLJ"
      }
    },
    {
      "cell_type": "code",
      "source": [
        "pip install tensorflow-addons"
      ],
      "metadata": {
        "colab": {
          "base_uri": "https://localhost:8080/"
        },
        "id": "qN7f1gY5Pl5m",
        "outputId": "42bc3745-5ca4-41a3-9f1d-48d406bf3d16"
      },
      "execution_count": 50,
      "outputs": [
        {
          "output_type": "stream",
          "name": "stdout",
          "text": [
            "Collecting tensorflow-addons\n",
            "  Downloading tensorflow_addons-0.15.0-cp37-cp37m-manylinux_2_12_x86_64.manylinux2010_x86_64.whl (1.1 MB)\n",
            "\u001b[K     |████████████████████████████████| 1.1 MB 8.1 MB/s \n",
            "\u001b[?25hRequirement already satisfied: typeguard>=2.7 in /usr/local/lib/python3.7/dist-packages (from tensorflow-addons) (2.7.1)\n",
            "Installing collected packages: tensorflow-addons\n",
            "Successfully installed tensorflow-addons-0.15.0\n"
          ]
        }
      ]
    },
    {
      "cell_type": "code",
      "source": [
        "import pandas as pd\n",
        "import numpy as np\n",
        "import matplotlib.pyplot as plt\n",
        "import seaborn as sns\n",
        "from sklearn.preprocessing import MinMaxScaler\n",
        "%matplotlib inline \n",
        "\n",
        "from sklearn.metrics import accuracy_score, confusion_matrix, classification_report\n",
        "from sklearn.model_selection import cross_val_score\n",
        "\n",
        "from sklearn.model_selection import train_test_split\n",
        "from sklearn.ensemble import RandomForestClassifier\n",
        "from sklearn.tree import DecisionTreeClassifier\n",
        "from sklearn.neighbors import KNeighborsClassifier\n",
        "from sklearn.naive_bayes import GaussianNB\n",
        "from sklearn.svm import SVC\n",
        "from xgboost import XGBClassifier\n",
        "from sklearn.linear_model import LogisticRegression\n",
        "\n",
        "import tensorflow as tf\n",
        "from tensorflow import keras\n",
        "from tensorflow_addons import losses"
      ],
      "metadata": {
        "id": "KDrt3w6pTH1w"
      },
      "execution_count": 51,
      "outputs": []
    },
    {
      "cell_type": "markdown",
      "source": [
        "---\n",
        "# Reading the label data\n",
        "---"
      ],
      "metadata": {
        "id": "qg2kOd7GUJ2d"
      }
    },
    {
      "cell_type": "code",
      "source": [
        "# reading the label data\n",
        "df_lab = pd.read_csv('label_raw.csv')\n",
        "\n",
        "# checking the datatype of each column\n",
        "df_lab.info()"
      ],
      "metadata": {
        "colab": {
          "base_uri": "https://localhost:8080/"
        },
        "id": "-4IrEtMkUkQF",
        "outputId": "ebf1ce63-7be8-4e14-8882-e020de32539c"
      },
      "execution_count": 63,
      "outputs": [
        {
          "output_type": "stream",
          "name": "stdout",
          "text": [
            "<class 'pandas.core.frame.DataFrame'>\n",
            "RangeIndex: 13728 entries, 0 to 13727\n",
            "Data columns (total 8 columns):\n",
            " #   Column        Non-Null Count  Dtype  \n",
            "---  ------        --------------  -----  \n",
            " 0   Date          13728 non-null  object \n",
            " 1   Open          13728 non-null  float64\n",
            " 2   High          13728 non-null  float64\n",
            " 3   Low           13728 non-null  float64\n",
            " 4   Close         13728 non-null  float64\n",
            " 5   Volume        13728 non-null  int64  \n",
            " 6   Dividends     13728 non-null  float64\n",
            " 7   Stock Splits  13728 non-null  float64\n",
            "dtypes: float64(6), int64(1), object(1)\n",
            "memory usage: 858.1+ KB\n"
          ]
        }
      ]
    },
    {
      "cell_type": "code",
      "source": [
        "df_lab.head()"
      ],
      "metadata": {
        "colab": {
          "base_uri": "https://localhost:8080/",
          "height": 206
        },
        "id": "6zfgqPYJjLmZ",
        "outputId": "5a2f9dfa-bd48-4e66-ed47-bc3b35950ca7"
      },
      "execution_count": 64,
      "outputs": [
        {
          "output_type": "execute_result",
          "data": {
            "text/html": [
              "\n",
              "  <div id=\"df-adc6a5d5-09e4-467b-a02b-22ac9f70629e\">\n",
              "    <div class=\"colab-df-container\">\n",
              "      <div>\n",
              "<style scoped>\n",
              "    .dataframe tbody tr th:only-of-type {\n",
              "        vertical-align: middle;\n",
              "    }\n",
              "\n",
              "    .dataframe tbody tr th {\n",
              "        vertical-align: top;\n",
              "    }\n",
              "\n",
              "    .dataframe thead th {\n",
              "        text-align: right;\n",
              "    }\n",
              "</style>\n",
              "<table border=\"1\" class=\"dataframe\">\n",
              "  <thead>\n",
              "    <tr style=\"text-align: right;\">\n",
              "      <th></th>\n",
              "      <th>Date</th>\n",
              "      <th>Open</th>\n",
              "      <th>High</th>\n",
              "      <th>Low</th>\n",
              "      <th>Close</th>\n",
              "      <th>Volume</th>\n",
              "      <th>Dividends</th>\n",
              "      <th>Stock Splits</th>\n",
              "    </tr>\n",
              "  </thead>\n",
              "  <tbody>\n",
              "    <tr>\n",
              "      <th>0</th>\n",
              "      <td>7/5/1966</td>\n",
              "      <td>0.0</td>\n",
              "      <td>0.004074</td>\n",
              "      <td>0.003982</td>\n",
              "      <td>0.004013</td>\n",
              "      <td>388800</td>\n",
              "      <td>0.0</td>\n",
              "      <td>0.0</td>\n",
              "    </tr>\n",
              "    <tr>\n",
              "      <th>1</th>\n",
              "      <td>7/6/1966</td>\n",
              "      <td>0.0</td>\n",
              "      <td>0.004227</td>\n",
              "      <td>0.003982</td>\n",
              "      <td>0.004227</td>\n",
              "      <td>687200</td>\n",
              "      <td>0.0</td>\n",
              "      <td>0.0</td>\n",
              "    </tr>\n",
              "    <tr>\n",
              "      <th>2</th>\n",
              "      <td>7/7/1966</td>\n",
              "      <td>0.0</td>\n",
              "      <td>0.004335</td>\n",
              "      <td>0.004044</td>\n",
              "      <td>0.004074</td>\n",
              "      <td>1853600</td>\n",
              "      <td>0.0</td>\n",
              "      <td>0.0</td>\n",
              "    </tr>\n",
              "    <tr>\n",
              "      <th>3</th>\n",
              "      <td>7/8/1966</td>\n",
              "      <td>0.0</td>\n",
              "      <td>0.004120</td>\n",
              "      <td>0.003982</td>\n",
              "      <td>0.004120</td>\n",
              "      <td>1238400</td>\n",
              "      <td>0.0</td>\n",
              "      <td>0.0</td>\n",
              "    </tr>\n",
              "    <tr>\n",
              "      <th>4</th>\n",
              "      <td>7/11/1966</td>\n",
              "      <td>0.0</td>\n",
              "      <td>0.004227</td>\n",
              "      <td>0.004059</td>\n",
              "      <td>0.004105</td>\n",
              "      <td>655200</td>\n",
              "      <td>0.0</td>\n",
              "      <td>0.0</td>\n",
              "    </tr>\n",
              "  </tbody>\n",
              "</table>\n",
              "</div>\n",
              "      <button class=\"colab-df-convert\" onclick=\"convertToInteractive('df-adc6a5d5-09e4-467b-a02b-22ac9f70629e')\"\n",
              "              title=\"Convert this dataframe to an interactive table.\"\n",
              "              style=\"display:none;\">\n",
              "        \n",
              "  <svg xmlns=\"http://www.w3.org/2000/svg\" height=\"24px\"viewBox=\"0 0 24 24\"\n",
              "       width=\"24px\">\n",
              "    <path d=\"M0 0h24v24H0V0z\" fill=\"none\"/>\n",
              "    <path d=\"M18.56 5.44l.94 2.06.94-2.06 2.06-.94-2.06-.94-.94-2.06-.94 2.06-2.06.94zm-11 1L8.5 8.5l.94-2.06 2.06-.94-2.06-.94L8.5 2.5l-.94 2.06-2.06.94zm10 10l.94 2.06.94-2.06 2.06-.94-2.06-.94-.94-2.06-.94 2.06-2.06.94z\"/><path d=\"M17.41 7.96l-1.37-1.37c-.4-.4-.92-.59-1.43-.59-.52 0-1.04.2-1.43.59L10.3 9.45l-7.72 7.72c-.78.78-.78 2.05 0 2.83L4 21.41c.39.39.9.59 1.41.59.51 0 1.02-.2 1.41-.59l7.78-7.78 2.81-2.81c.8-.78.8-2.07 0-2.86zM5.41 20L4 18.59l7.72-7.72 1.47 1.35L5.41 20z\"/>\n",
              "  </svg>\n",
              "      </button>\n",
              "      \n",
              "  <style>\n",
              "    .colab-df-container {\n",
              "      display:flex;\n",
              "      flex-wrap:wrap;\n",
              "      gap: 12px;\n",
              "    }\n",
              "\n",
              "    .colab-df-convert {\n",
              "      background-color: #E8F0FE;\n",
              "      border: none;\n",
              "      border-radius: 50%;\n",
              "      cursor: pointer;\n",
              "      display: none;\n",
              "      fill: #1967D2;\n",
              "      height: 32px;\n",
              "      padding: 0 0 0 0;\n",
              "      width: 32px;\n",
              "    }\n",
              "\n",
              "    .colab-df-convert:hover {\n",
              "      background-color: #E2EBFA;\n",
              "      box-shadow: 0px 1px 2px rgba(60, 64, 67, 0.3), 0px 1px 3px 1px rgba(60, 64, 67, 0.15);\n",
              "      fill: #174EA6;\n",
              "    }\n",
              "\n",
              "    [theme=dark] .colab-df-convert {\n",
              "      background-color: #3B4455;\n",
              "      fill: #D2E3FC;\n",
              "    }\n",
              "\n",
              "    [theme=dark] .colab-df-convert:hover {\n",
              "      background-color: #434B5C;\n",
              "      box-shadow: 0px 1px 3px 1px rgba(0, 0, 0, 0.15);\n",
              "      filter: drop-shadow(0px 1px 2px rgba(0, 0, 0, 0.3));\n",
              "      fill: #FFFFFF;\n",
              "    }\n",
              "  </style>\n",
              "\n",
              "      <script>\n",
              "        const buttonEl =\n",
              "          document.querySelector('#df-adc6a5d5-09e4-467b-a02b-22ac9f70629e button.colab-df-convert');\n",
              "        buttonEl.style.display =\n",
              "          google.colab.kernel.accessAllowed ? 'block' : 'none';\n",
              "\n",
              "        async function convertToInteractive(key) {\n",
              "          const element = document.querySelector('#df-adc6a5d5-09e4-467b-a02b-22ac9f70629e');\n",
              "          const dataTable =\n",
              "            await google.colab.kernel.invokeFunction('convertToInteractive',\n",
              "                                                     [key], {});\n",
              "          if (!dataTable) return;\n",
              "\n",
              "          const docLinkHtml = 'Like what you see? Visit the ' +\n",
              "            '<a target=\"_blank\" href=https://colab.research.google.com/notebooks/data_table.ipynb>data table notebook</a>'\n",
              "            + ' to learn more about interactive tables.';\n",
              "          element.innerHTML = '';\n",
              "          dataTable['output_type'] = 'display_data';\n",
              "          await google.colab.output.renderOutput(dataTable, element);\n",
              "          const docLink = document.createElement('div');\n",
              "          docLink.innerHTML = docLinkHtml;\n",
              "          element.appendChild(docLink);\n",
              "        }\n",
              "      </script>\n",
              "    </div>\n",
              "  </div>\n",
              "  "
            ],
            "text/plain": [
              "        Date  Open      High  ...   Volume  Dividends  Stock Splits\n",
              "0   7/5/1966   0.0  0.004074  ...   388800        0.0           0.0\n",
              "1   7/6/1966   0.0  0.004227  ...   687200        0.0           0.0\n",
              "2   7/7/1966   0.0  0.004335  ...  1853600        0.0           0.0\n",
              "3   7/8/1966   0.0  0.004120  ...  1238400        0.0           0.0\n",
              "4  7/11/1966   0.0  0.004227  ...   655200        0.0           0.0\n",
              "\n",
              "[5 rows x 8 columns]"
            ]
          },
          "metadata": {},
          "execution_count": 64
        }
      ]
    },
    {
      "cell_type": "markdown",
      "source": [
        "From the above output, it can be seen that the **'Date'** column is a **string type**. It has to be converted into **datetime object**."
      ],
      "metadata": {
        "id": "lSrqDSkCgip1"
      }
    },
    {
      "cell_type": "code",
      "source": [
        "def to_datetime():\n",
        "  # convert the string date to datetime format\n",
        "  df_lab['Date'] = pd.to_datetime(df_lab['Date'])\n",
        "\n",
        "  # get the names of the week days\n",
        "  df_lab['weekday_name'] = df_lab['Date'].dt.day_name()\n",
        "\n",
        "  # filtering on working days \n",
        "  df_lab_wd = df_lab[(df_lab['weekday_name']!='Saturday') | (df_lab['weekday_name']!='Sunday')]\n",
        "\n",
        "  # As the sale is made on weekdays \n",
        "  return df_lab_wd\n",
        "\n",
        "# let's give the same name for the data obtained from the function as it was named before\n",
        "\n",
        "df_lab = to_datetime()\n",
        "df_lab.shape"
      ],
      "metadata": {
        "colab": {
          "base_uri": "https://localhost:8080/"
        },
        "id": "mIdHi-5RaAUU",
        "outputId": "9fc5611b-bf1c-430e-b1b7-cf714e6a0484"
      },
      "execution_count": 65,
      "outputs": [
        {
          "output_type": "execute_result",
          "data": {
            "text/plain": [
              "(13728, 9)"
            ]
          },
          "metadata": {},
          "execution_count": 65
        }
      ]
    },
    {
      "cell_type": "markdown",
      "source": [
        "# **Visualize** the missing values in each column for the sake of **data qualitiy management**"
      ],
      "metadata": {
        "id": "VnpfnN2dcsDz"
      }
    },
    {
      "cell_type": "code",
      "source": [
        "def missing_heatmap():\n",
        "  # heatmap plot to see the position/location of missing values (if any)\n",
        "  sns.heatmap(df_lab.isnull(), cbar=False)\n",
        "\n",
        "  # print the proportion of missing values in each column\n",
        "  print(df_lab.isnull().mean())\n",
        "missing_heatmap()"
      ],
      "metadata": {
        "colab": {
          "base_uri": "https://localhost:8080/",
          "height": 511
        },
        "id": "UiJUaRchjCOA",
        "outputId": "18471466-a752-4015-87f2-00ede94e878d"
      },
      "execution_count": 66,
      "outputs": [
        {
          "output_type": "stream",
          "name": "stdout",
          "text": [
            "Date            0.0\n",
            "Open            0.0\n",
            "High            0.0\n",
            "Low             0.0\n",
            "Close           0.0\n",
            "Volume          0.0\n",
            "Dividends       0.0\n",
            "Stock Splits    0.0\n",
            "weekday_name    0.0\n",
            "dtype: float64\n"
          ]
        },
        {
          "output_type": "display_data",
          "data": {
            "image/png": "[encoded data removed]",
            "text/plain": [
              "<Figure size 432x288 with 1 Axes>"
            ]
          },
          "metadata": {
            "needs_background": "light"
          }
        }
      ]
    },
    {
      "cell_type": "markdown",
      "source": [
        "As per the results above, the label data is _**clean in terms of missing values**_. "
      ],
      "metadata": {
        "id": "ZBV2iBRPv2pK"
      }
    },
    {
      "cell_type": "markdown",
      "source": [
        "# **Dichotomize the investiment as positive and negative**\n",
        "---\n",
        "**Positive** if $profit$ reads at **least 10% with in 10 working days** following a purchase day, **negative** otherwise.\n",
        "\n",
        "Take the maximum of the lowest selling prices in the 10 working days immediate to purchase day: \n",
        "\n",
        "<center> $sell = \\max{\\{sell_{t+1}, ..., sell_{t+10}\\}}$ <center/> \n",
        "\n",
        "<justify> where $t$ is the purchase day. <justify/>\n",
        "\n",
        "then calculate the profit percentage as:\n",
        "\n",
        "<center> $profit = \\frac{sell - purchase_t}{purchase_t}\\times 100$ <center/>\n"
      ],
      "metadata": {
        "id": "KtDyeBSPlmO3"
      }
    },
    {
      "cell_type": "code",
      "source": [
        "def calc_profit():\n",
        "  d = 10\n",
        "  df_lab['profit'] = ((pd.Series(df_lab['Low']).rolling(d)).max().shift(-d) - pd.Series(df_lab['High']))/pd.Series(df_lab['High'])\n",
        "  df_lab_pro = df_lab.dropna()\n",
        "  return df_lab_pro\n",
        "df_lab = calc_profit()\n",
        "df_lab.head()\n"
      ],
      "metadata": {
        "colab": {
          "base_uri": "https://localhost:8080/",
          "height": 206
        },
        "id": "fvwP7INVuOuU",
        "outputId": "68d45ed2-0385-4078-ccfd-6a97eeb3ac8e"
      },
      "execution_count": 67,
      "outputs": [
        {
          "output_type": "execute_result",
          "data": {
            "text/html": [
              "\n",
              "  <div id=\"df-bef81cd1-cd77-49be-ac84-033e6fad5eea\">\n",
              "    <div class=\"colab-df-container\">\n",
              "      <div>\n",
              "<style scoped>\n",
              "    .dataframe tbody tr th:only-of-type {\n",
              "        vertical-align: middle;\n",
              "    }\n",
              "\n",
              "    .dataframe tbody tr th {\n",
              "        vertical-align: top;\n",
              "    }\n",
              "\n",
              "    .dataframe thead th {\n",
              "        text-align: right;\n",
              "    }\n",
              "</style>\n",
              "<table border=\"1\" class=\"dataframe\">\n",
              "  <thead>\n",
              "    <tr style=\"text-align: right;\">\n",
              "      <th></th>\n",
              "      <th>Date</th>\n",
              "      <th>Open</th>\n",
              "      <th>High</th>\n",
              "      <th>Low</th>\n",
              "      <th>Close</th>\n",
              "      <th>Volume</th>\n",
              "      <th>Dividends</th>\n",
              "      <th>Stock Splits</th>\n",
              "      <th>weekday_name</th>\n",
              "      <th>profit</th>\n",
              "    </tr>\n",
              "  </thead>\n",
              "  <tbody>\n",
              "    <tr>\n",
              "      <th>0</th>\n",
              "      <td>1966-07-05</td>\n",
              "      <td>0.0</td>\n",
              "      <td>0.004074</td>\n",
              "      <td>0.003982</td>\n",
              "      <td>0.004013</td>\n",
              "      <td>388800</td>\n",
              "      <td>0.0</td>\n",
              "      <td>0.0</td>\n",
              "      <td>Tuesday</td>\n",
              "      <td>-0.003759</td>\n",
              "    </tr>\n",
              "    <tr>\n",
              "      <th>1</th>\n",
              "      <td>1966-07-06</td>\n",
              "      <td>0.0</td>\n",
              "      <td>0.004227</td>\n",
              "      <td>0.003982</td>\n",
              "      <td>0.004227</td>\n",
              "      <td>687200</td>\n",
              "      <td>0.0</td>\n",
              "      <td>0.0</td>\n",
              "      <td>Wednesday</td>\n",
              "      <td>-0.039855</td>\n",
              "    </tr>\n",
              "    <tr>\n",
              "      <th>2</th>\n",
              "      <td>1966-07-07</td>\n",
              "      <td>0.0</td>\n",
              "      <td>0.004335</td>\n",
              "      <td>0.004044</td>\n",
              "      <td>0.004074</td>\n",
              "      <td>1853600</td>\n",
              "      <td>0.0</td>\n",
              "      <td>0.0</td>\n",
              "      <td>Thursday</td>\n",
              "      <td>-0.063604</td>\n",
              "    </tr>\n",
              "    <tr>\n",
              "      <th>3</th>\n",
              "      <td>1966-07-08</td>\n",
              "      <td>0.0</td>\n",
              "      <td>0.004120</td>\n",
              "      <td>0.003982</td>\n",
              "      <td>0.004120</td>\n",
              "      <td>1238400</td>\n",
              "      <td>0.0</td>\n",
              "      <td>0.0</td>\n",
              "      <td>Friday</td>\n",
              "      <td>-0.014870</td>\n",
              "    </tr>\n",
              "    <tr>\n",
              "      <th>4</th>\n",
              "      <td>1966-07-11</td>\n",
              "      <td>0.0</td>\n",
              "      <td>0.004227</td>\n",
              "      <td>0.004059</td>\n",
              "      <td>0.004105</td>\n",
              "      <td>655200</td>\n",
              "      <td>0.0</td>\n",
              "      <td>0.0</td>\n",
              "      <td>Monday</td>\n",
              "      <td>-0.047101</td>\n",
              "    </tr>\n",
              "  </tbody>\n",
              "</table>\n",
              "</div>\n",
              "      <button class=\"colab-df-convert\" onclick=\"convertToInteractive('df-bef81cd1-cd77-49be-ac84-033e6fad5eea')\"\n",
              "              title=\"Convert this dataframe to an interactive table.\"\n",
              "              style=\"display:none;\">\n",
              "        \n",
              "  <svg xmlns=\"http://www.w3.org/2000/svg\" height=\"24px\"viewBox=\"0 0 24 24\"\n",
              "       width=\"24px\">\n",
              "    <path d=\"M0 0h24v24H0V0z\" fill=\"none\"/>\n",
              "    <path d=\"M18.56 5.44l.94 2.06.94-2.06 2.06-.94-2.06-.94-.94-2.06-.94 2.06-2.06.94zm-11 1L8.5 8.5l.94-2.06 2.06-.94-2.06-.94L8.5 2.5l-.94 2.06-2.06.94zm10 10l.94 2.06.94-2.06 2.06-.94-2.06-.94-.94-2.06-.94 2.06-2.06.94z\"/><path d=\"M17.41 7.96l-1.37-1.37c-.4-.4-.92-.59-1.43-.59-.52 0-1.04.2-1.43.59L10.3 9.45l-7.72 7.72c-.78.78-.78 2.05 0 2.83L4 21.41c.39.39.9.59 1.41.59.51 0 1.02-.2 1.41-.59l7.78-7.78 2.81-2.81c.8-.78.8-2.07 0-2.86zM5.41 20L4 18.59l7.72-7.72 1.47 1.35L5.41 20z\"/>\n",
              "  </svg>\n",
              "      </button>\n",
              "      \n",
              "  <style>\n",
              "    .colab-df-container {\n",
              "      display:flex;\n",
              "      flex-wrap:wrap;\n",
              "      gap: 12px;\n",
              "    }\n",
              "\n",
              "    .colab-df-convert {\n",
              "      background-color: #E8F0FE;\n",
              "      border: none;\n",
              "      border-radius: 50%;\n",
              "      cursor: pointer;\n",
              "      display: none;\n",
              "      fill: #1967D2;\n",
              "      height: 32px;\n",
              "      padding: 0 0 0 0;\n",
              "      width: 32px;\n",
              "    }\n",
              "\n",
              "    .colab-df-convert:hover {\n",
              "      background-color: #E2EBFA;\n",
              "      box-shadow: 0px 1px 2px rgba(60, 64, 67, 0.3), 0px 1px 3px 1px rgba(60, 64, 67, 0.15);\n",
              "      fill: #174EA6;\n",
              "    }\n",
              "\n",
              "    [theme=dark] .colab-df-convert {\n",
              "      background-color: #3B4455;\n",
              "      fill: #D2E3FC;\n",
              "    }\n",
              "\n",
              "    [theme=dark] .colab-df-convert:hover {\n",
              "      background-color: #434B5C;\n",
              "      box-shadow: 0px 1px 3px 1px rgba(0, 0, 0, 0.15);\n",
              "      filter: drop-shadow(0px 1px 2px rgba(0, 0, 0, 0.3));\n",
              "      fill: #FFFFFF;\n",
              "    }\n",
              "  </style>\n",
              "\n",
              "      <script>\n",
              "        const buttonEl =\n",
              "          document.querySelector('#df-bef81cd1-cd77-49be-ac84-033e6fad5eea button.colab-df-convert');\n",
              "        buttonEl.style.display =\n",
              "          google.colab.kernel.accessAllowed ? 'block' : 'none';\n",
              "\n",
              "        async function convertToInteractive(key) {\n",
              "          const element = document.querySelector('#df-bef81cd1-cd77-49be-ac84-033e6fad5eea');\n",
              "          const dataTable =\n",
              "            await google.colab.kernel.invokeFunction('convertToInteractive',\n",
              "                                                     [key], {});\n",
              "          if (!dataTable) return;\n",
              "\n",
              "          const docLinkHtml = 'Like what you see? Visit the ' +\n",
              "            '<a target=\"_blank\" href=https://colab.research.google.com/notebooks/data_table.ipynb>data table notebook</a>'\n",
              "            + ' to learn more about interactive tables.';\n",
              "          element.innerHTML = '';\n",
              "          dataTable['output_type'] = 'display_data';\n",
              "          await google.colab.output.renderOutput(dataTable, element);\n",
              "          const docLink = document.createElement('div');\n",
              "          docLink.innerHTML = docLinkHtml;\n",
              "          element.appendChild(docLink);\n",
              "        }\n",
              "      </script>\n",
              "    </div>\n",
              "  </div>\n",
              "  "
            ],
            "text/plain": [
              "        Date  Open      High  ...  Stock Splits  weekday_name    profit\n",
              "0 1966-07-05   0.0  0.004074  ...           0.0       Tuesday -0.003759\n",
              "1 1966-07-06   0.0  0.004227  ...           0.0     Wednesday -0.039855\n",
              "2 1966-07-07   0.0  0.004335  ...           0.0      Thursday -0.063604\n",
              "3 1966-07-08   0.0  0.004120  ...           0.0        Friday -0.014870\n",
              "4 1966-07-11   0.0  0.004227  ...           0.0        Monday -0.047101\n",
              "\n",
              "[5 rows x 10 columns]"
            ]
          },
          "metadata": {},
          "execution_count": 67
        }
      ]
    },
    {
      "cell_type": "code",
      "source": [
        "# Labeling the investment based on the minimum of 10% profit\n",
        "def investment_label(gain):\n",
        "  if gain >= 0.1:\n",
        "    return 'positive'\n",
        "  else:\n",
        "    return 'negative'\n",
        "df_lab['label'] = df_lab['profit'].map(investment_label)\n"
      ],
      "metadata": {
        "id": "nwEJfeocu0VP"
      },
      "execution_count": 68,
      "outputs": []
    },
    {
      "cell_type": "code",
      "source": [
        "# Distribution of the positive and negative investments \n",
        "def label_dist():\n",
        "\n",
        "\tdf_perc = pd.DataFrame(df_lab.groupby('label')['label'].count() * 100/(df_lab.groupby('label')['label'].count().sum()))\\\n",
        "    \t.rename(columns={'label':'animal_percent'}).reset_index()\n",
        "\n",
        "\n",
        "\texplode = (0, 0.4)  \n",
        "\n",
        "\tfig1, ax1 = plt.subplots()\n",
        "\tax1.pie(df_perc['animal_percent'], explode=explode,\n",
        "\t \tlabels=df_perc['label'], autopct='%1.2f%%',\n",
        "        \tshadow=True, startangle=200)\n",
        "\tax1.axis('equal')\n",
        " \n",
        "if __name__ == \"__main__\":\n",
        "  label_dist()\n"
      ],
      "metadata": {
        "colab": {
          "base_uri": "https://localhost:8080/",
          "height": 248
        },
        "id": "3ubdiETeEE4a",
        "outputId": "d2077463-f1ef-4519-cf9e-b3d03f424e3a"
      },
      "execution_count": 69,
      "outputs": [
        {
          "output_type": "display_data",
          "data": {
            "image/png": "[encoded data removed]",
            "text/plain": [
              "<Figure size 432x288 with 1 Axes>"
            ]
          },
          "metadata": {}
        }
      ]
    },
    {
      "cell_type": "markdown",
      "source": [
        "# Reading features data"
      ],
      "metadata": {
        "id": "SAT-ul8Fom1q"
      }
    },
    {
      "cell_type": "code",
      "source": [
        "df_feat = pd.ExcelFile('features.xlsx')\n",
        "df_feat.sheet_names\n",
        "\n",
        "# Reading the data in each sheets\n",
        "df_featA = pd.read_excel('features.xlsx', sheet_name=None)"
      ],
      "metadata": {
        "id": "3W9lCjIET-Xe"
      },
      "execution_count": 70,
      "outputs": []
    },
    {
      "cell_type": "code",
      "source": [
        "df_gdp = df_featA[df_feat.sheet_names[3]]"
      ],
      "metadata": {
        "id": "VXl-gq4lo0uA"
      },
      "execution_count": 71,
      "outputs": []
    },
    {
      "cell_type": "code",
      "source": [
        "# Trend for Close price \n",
        "plt.figure(figsize=(12,6))\n",
        "plt.plot(df_lab['Date'], df_lab['Close'], ls='-.', color='#074F67')\n",
        "plt.xlabel('purchase/sell date')\n",
        "plt.ylabel('Close price' )\n",
        "\n",
        "# df_lab['Close'].plot(style='-.', xlabel='purchase/sell date',\n",
        "#                      ylabel='Close price', figsize=(12,6), color='#074F67', secondary_y=True)"
      ],
      "metadata": {
        "colab": {
          "base_uri": "https://localhost:8080/",
          "height": 406
        },
        "id": "z3T5HaE23Dar",
        "outputId": "b52ba4ce-b204-4477-fa4d-fcd8e9a72a1a"
      },
      "execution_count": 72,
      "outputs": [
        {
          "output_type": "execute_result",
          "data": {
            "text/plain": [
              "Text(0, 0.5, 'Close price')"
            ]
          },
          "metadata": {},
          "execution_count": 72
        },
        {
          "output_type": "display_data",
          "data": {
            "image/png": "[encoded data removed]",
            "text/plain": [
              "<Figure size 864x432 with 1 Axes>"
            ]
          },
          "metadata": {
            "needs_background": "light"
          }
        }
      ]
    },
    {
      "cell_type": "code",
      "source": [
        "# replace the (target) text labels by numberic scores, so that the state-of-the-art method can understand them\n",
        "df_lab['label'] = df_lab['label'].replace({'negative':0, 'positive':1})"
      ],
      "metadata": {
        "id": "S2pi5mItL109"
      },
      "execution_count": 73,
      "outputs": []
    },
    {
      "cell_type": "code",
      "source": [
        "# Considering 'Open' price and Volume as features \n",
        "# Checking the strength of the correlation between 'Open' and Volume, in order to avoid collinearity issue in \n",
        "df_lab[['Open', 'Volume']].corr()"
      ],
      "metadata": {
        "colab": {
          "base_uri": "https://localhost:8080/",
          "height": 112
        },
        "id": "0Vgbcf1Lh-Bs",
        "outputId": "5530578f-dc82-41df-ea09-105f80dd19dd"
      },
      "execution_count": 74,
      "outputs": [
        {
          "output_type": "execute_result",
          "data": {
            "text/html": [
              "\n",
              "  <div id=\"df-9c0229f2-2527-4562-87ba-a76f70932f09\">\n",
              "    <div class=\"colab-df-container\">\n",
              "      <div>\n",
              "<style scoped>\n",
              "    .dataframe tbody tr th:only-of-type {\n",
              "        vertical-align: middle;\n",
              "    }\n",
              "\n",
              "    .dataframe tbody tr th {\n",
              "        vertical-align: top;\n",
              "    }\n",
              "\n",
              "    .dataframe thead th {\n",
              "        text-align: right;\n",
              "    }\n",
              "</style>\n",
              "<table border=\"1\" class=\"dataframe\">\n",
              "  <thead>\n",
              "    <tr style=\"text-align: right;\">\n",
              "      <th></th>\n",
              "      <th>Open</th>\n",
              "      <th>Volume</th>\n",
              "    </tr>\n",
              "  </thead>\n",
              "  <tbody>\n",
              "    <tr>\n",
              "      <th>Open</th>\n",
              "      <td>1.00000</td>\n",
              "      <td>0.11519</td>\n",
              "    </tr>\n",
              "    <tr>\n",
              "      <th>Volume</th>\n",
              "      <td>0.11519</td>\n",
              "      <td>1.00000</td>\n",
              "    </tr>\n",
              "  </tbody>\n",
              "</table>\n",
              "</div>\n",
              "      <button class=\"colab-df-convert\" onclick=\"convertToInteractive('df-9c0229f2-2527-4562-87ba-a76f70932f09')\"\n",
              "              title=\"Convert this dataframe to an interactive table.\"\n",
              "              style=\"display:none;\">\n",
              "        \n",
              "  <svg xmlns=\"http://www.w3.org/2000/svg\" height=\"24px\"viewBox=\"0 0 24 24\"\n",
              "       width=\"24px\">\n",
              "    <path d=\"M0 0h24v24H0V0z\" fill=\"none\"/>\n",
              "    <path d=\"M18.56 5.44l.94 2.06.94-2.06 2.06-.94-2.06-.94-.94-2.06-.94 2.06-2.06.94zm-11 1L8.5 8.5l.94-2.06 2.06-.94-2.06-.94L8.5 2.5l-.94 2.06-2.06.94zm10 10l.94 2.06.94-2.06 2.06-.94-2.06-.94-.94-2.06-.94 2.06-2.06.94z\"/><path d=\"M17.41 7.96l-1.37-1.37c-.4-.4-.92-.59-1.43-.59-.52 0-1.04.2-1.43.59L10.3 9.45l-7.72 7.72c-.78.78-.78 2.05 0 2.83L4 21.41c.39.39.9.59 1.41.59.51 0 1.02-.2 1.41-.59l7.78-7.78 2.81-2.81c.8-.78.8-2.07 0-2.86zM5.41 20L4 18.59l7.72-7.72 1.47 1.35L5.41 20z\"/>\n",
              "  </svg>\n",
              "      </button>\n",
              "      \n",
              "  <style>\n",
              "    .colab-df-container {\n",
              "      display:flex;\n",
              "      flex-wrap:wrap;\n",
              "      gap: 12px;\n",
              "    }\n",
              "\n",
              "    .colab-df-convert {\n",
              "      background-color: #E8F0FE;\n",
              "      border: none;\n",
              "      border-radius: 50%;\n",
              "      cursor: pointer;\n",
              "      display: none;\n",
              "      fill: #1967D2;\n",
              "      height: 32px;\n",
              "      padding: 0 0 0 0;\n",
              "      width: 32px;\n",
              "    }\n",
              "\n",
              "    .colab-df-convert:hover {\n",
              "      background-color: #E2EBFA;\n",
              "      box-shadow: 0px 1px 2px rgba(60, 64, 67, 0.3), 0px 1px 3px 1px rgba(60, 64, 67, 0.15);\n",
              "      fill: #174EA6;\n",
              "    }\n",
              "\n",
              "    [theme=dark] .colab-df-convert {\n",
              "      background-color: #3B4455;\n",
              "      fill: #D2E3FC;\n",
              "    }\n",
              "\n",
              "    [theme=dark] .colab-df-convert:hover {\n",
              "      background-color: #434B5C;\n",
              "      box-shadow: 0px 1px 3px 1px rgba(0, 0, 0, 0.15);\n",
              "      filter: drop-shadow(0px 1px 2px rgba(0, 0, 0, 0.3));\n",
              "      fill: #FFFFFF;\n",
              "    }\n",
              "  </style>\n",
              "\n",
              "      <script>\n",
              "        const buttonEl =\n",
              "          document.querySelector('#df-9c0229f2-2527-4562-87ba-a76f70932f09 button.colab-df-convert');\n",
              "        buttonEl.style.display =\n",
              "          google.colab.kernel.accessAllowed ? 'block' : 'none';\n",
              "\n",
              "        async function convertToInteractive(key) {\n",
              "          const element = document.querySelector('#df-9c0229f2-2527-4562-87ba-a76f70932f09');\n",
              "          const dataTable =\n",
              "            await google.colab.kernel.invokeFunction('convertToInteractive',\n",
              "                                                     [key], {});\n",
              "          if (!dataTable) return;\n",
              "\n",
              "          const docLinkHtml = 'Like what you see? Visit the ' +\n",
              "            '<a target=\"_blank\" href=https://colab.research.google.com/notebooks/data_table.ipynb>data table notebook</a>'\n",
              "            + ' to learn more about interactive tables.';\n",
              "          element.innerHTML = '';\n",
              "          dataTable['output_type'] = 'display_data';\n",
              "          await google.colab.output.renderOutput(dataTable, element);\n",
              "          const docLink = document.createElement('div');\n",
              "          docLink.innerHTML = docLinkHtml;\n",
              "          element.appendChild(docLink);\n",
              "        }\n",
              "      </script>\n",
              "    </div>\n",
              "  </div>\n",
              "  "
            ],
            "text/plain": [
              "           Open   Volume\n",
              "Open    1.00000  0.11519\n",
              "Volume  0.11519  1.00000"
            ]
          },
          "metadata": {},
          "execution_count": 74
        }
      ]
    },
    {
      "cell_type": "code",
      "source": [
        ""
      ],
      "metadata": {
        "id": "Omd9HFSbpZSc"
      },
      "execution_count": 74,
      "outputs": []
    },
    {
      "cell_type": "markdown",
      "source": [
        "# **Scaling features' values**"
      ],
      "metadata": {
        "id": "9-tpxNVJpwMX"
      }
    },
    {
      "cell_type": "markdown",
      "source": [
        "---\n",
        " * Standardize values for less memory usage and precision "
      ],
      "metadata": {
        "id": "XVK964ZIqFcE"
      }
    },
    {
      "cell_type": "code",
      "source": [
        "def feat_scale():\n",
        "  scaler = MinMaxScaler()\n",
        "  transform = scaler.fit_transform(df_lab[['Open', 'Volume']])\n",
        "  df_feat = pd.DataFrame(data=transform, columns=['Open', 'Volume'])\n",
        "  return df_feat\n",
        "df_feat = feat_scale()\n",
        "df_feat.tail()"
      ],
      "metadata": {
        "colab": {
          "base_uri": "https://localhost:8080/",
          "height": 206
        },
        "id": "X5jwQdovbu5m",
        "outputId": "f076df72-f40b-4245-ba34-ddde101778fd"
      },
      "execution_count": 75,
      "outputs": [
        {
          "output_type": "execute_result",
          "data": {
            "text/html": [
              "\n",
              "  <div id=\"df-b978f8f0-b4c4-4933-a9bc-8ac1688d56d8\">\n",
              "    <div class=\"colab-df-container\">\n",
              "      <div>\n",
              "<style scoped>\n",
              "    .dataframe tbody tr th:only-of-type {\n",
              "        vertical-align: middle;\n",
              "    }\n",
              "\n",
              "    .dataframe tbody tr th {\n",
              "        vertical-align: top;\n",
              "    }\n",
              "\n",
              "    .dataframe thead th {\n",
              "        text-align: right;\n",
              "    }\n",
              "</style>\n",
              "<table border=\"1\" class=\"dataframe\">\n",
              "  <thead>\n",
              "    <tr style=\"text-align: right;\">\n",
              "      <th></th>\n",
              "      <th>Open</th>\n",
              "      <th>Volume</th>\n",
              "    </tr>\n",
              "  </thead>\n",
              "  <tbody>\n",
              "    <tr>\n",
              "      <th>13713</th>\n",
              "      <td>0.926092</td>\n",
              "      <td>0.011500</td>\n",
              "    </tr>\n",
              "    <tr>\n",
              "      <th>13714</th>\n",
              "      <td>0.929890</td>\n",
              "      <td>0.028782</td>\n",
              "    </tr>\n",
              "    <tr>\n",
              "      <th>13715</th>\n",
              "      <td>0.937094</td>\n",
              "      <td>0.018609</td>\n",
              "    </tr>\n",
              "    <tr>\n",
              "      <th>13716</th>\n",
              "      <td>0.929759</td>\n",
              "      <td>0.020786</td>\n",
              "    </tr>\n",
              "    <tr>\n",
              "      <th>13717</th>\n",
              "      <td>0.922293</td>\n",
              "      <td>0.029473</td>\n",
              "    </tr>\n",
              "  </tbody>\n",
              "</table>\n",
              "</div>\n",
              "      <button class=\"colab-df-convert\" onclick=\"convertToInteractive('df-b978f8f0-b4c4-4933-a9bc-8ac1688d56d8')\"\n",
              "              title=\"Convert this dataframe to an interactive table.\"\n",
              "              style=\"display:none;\">\n",
              "        \n",
              "  <svg xmlns=\"http://www.w3.org/2000/svg\" height=\"24px\"viewBox=\"0 0 24 24\"\n",
              "       width=\"24px\">\n",
              "    <path d=\"M0 0h24v24H0V0z\" fill=\"none\"/>\n",
              "    <path d=\"M18.56 5.44l.94 2.06.94-2.06 2.06-.94-2.06-.94-.94-2.06-.94 2.06-2.06.94zm-11 1L8.5 8.5l.94-2.06 2.06-.94-2.06-.94L8.5 2.5l-.94 2.06-2.06.94zm10 10l.94 2.06.94-2.06 2.06-.94-2.06-.94-.94-2.06-.94 2.06-2.06.94z\"/><path d=\"M17.41 7.96l-1.37-1.37c-.4-.4-.92-.59-1.43-.59-.52 0-1.04.2-1.43.59L10.3 9.45l-7.72 7.72c-.78.78-.78 2.05 0 2.83L4 21.41c.39.39.9.59 1.41.59.51 0 1.02-.2 1.41-.59l7.78-7.78 2.81-2.81c.8-.78.8-2.07 0-2.86zM5.41 20L4 18.59l7.72-7.72 1.47 1.35L5.41 20z\"/>\n",
              "  </svg>\n",
              "      </button>\n",
              "      \n",
              "  <style>\n",
              "    .colab-df-container {\n",
              "      display:flex;\n",
              "      flex-wrap:wrap;\n",
              "      gap: 12px;\n",
              "    }\n",
              "\n",
              "    .colab-df-convert {\n",
              "      background-color: #E8F0FE;\n",
              "      border: none;\n",
              "      border-radius: 50%;\n",
              "      cursor: pointer;\n",
              "      display: none;\n",
              "      fill: #1967D2;\n",
              "      height: 32px;\n",
              "      padding: 0 0 0 0;\n",
              "      width: 32px;\n",
              "    }\n",
              "\n",
              "    .colab-df-convert:hover {\n",
              "      background-color: #E2EBFA;\n",
              "      box-shadow: 0px 1px 2px rgba(60, 64, 67, 0.3), 0px 1px 3px 1px rgba(60, 64, 67, 0.15);\n",
              "      fill: #174EA6;\n",
              "    }\n",
              "\n",
              "    [theme=dark] .colab-df-convert {\n",
              "      background-color: #3B4455;\n",
              "      fill: #D2E3FC;\n",
              "    }\n",
              "\n",
              "    [theme=dark] .colab-df-convert:hover {\n",
              "      background-color: #434B5C;\n",
              "      box-shadow: 0px 1px 3px 1px rgba(0, 0, 0, 0.15);\n",
              "      filter: drop-shadow(0px 1px 2px rgba(0, 0, 0, 0.3));\n",
              "      fill: #FFFFFF;\n",
              "    }\n",
              "  </style>\n",
              "\n",
              "      <script>\n",
              "        const buttonEl =\n",
              "          document.querySelector('#df-b978f8f0-b4c4-4933-a9bc-8ac1688d56d8 button.colab-df-convert');\n",
              "        buttonEl.style.display =\n",
              "          google.colab.kernel.accessAllowed ? 'block' : 'none';\n",
              "\n",
              "        async function convertToInteractive(key) {\n",
              "          const element = document.querySelector('#df-b978f8f0-b4c4-4933-a9bc-8ac1688d56d8');\n",
              "          const dataTable =\n",
              "            await google.colab.kernel.invokeFunction('convertToInteractive',\n",
              "                                                     [key], {});\n",
              "          if (!dataTable) return;\n",
              "\n",
              "          const docLinkHtml = 'Like what you see? Visit the ' +\n",
              "            '<a target=\"_blank\" href=https://colab.research.google.com/notebooks/data_table.ipynb>data table notebook</a>'\n",
              "            + ' to learn more about interactive tables.';\n",
              "          element.innerHTML = '';\n",
              "          dataTable['output_type'] = 'display_data';\n",
              "          await google.colab.output.renderOutput(dataTable, element);\n",
              "          const docLink = document.createElement('div');\n",
              "          docLink.innerHTML = docLinkHtml;\n",
              "          element.appendChild(docLink);\n",
              "        }\n",
              "      </script>\n",
              "    </div>\n",
              "  </div>\n",
              "  "
            ],
            "text/plain": [
              "           Open    Volume\n",
              "13713  0.926092  0.011500\n",
              "13714  0.929890  0.028782\n",
              "13715  0.937094  0.018609\n",
              "13716  0.929759  0.020786\n",
              "13717  0.922293  0.029473"
            ]
          },
          "metadata": {},
          "execution_count": 75
        }
      ]
    },
    {
      "cell_type": "code",
      "source": [
        "# Train test split\n",
        "X_train, X_test, y_train, y_test = train_test_split(df_feat, df_lab['label'], test_size=0.25, stratify=df_lab['label'])"
      ],
      "metadata": {
        "id": "Yx5kVsA7inev"
      },
      "execution_count": 76,
      "outputs": []
    },
    {
      "cell_type": "markdown",
      "source": [
        "## **Binary prediction**"
      ],
      "metadata": {
        "id": "3e8467K05zFw"
      }
    },
    {
      "cell_type": "code",
      "source": [
        "nb = GaussianNB()\n",
        "lr = LogisticRegression(max_iter = 2000)\n",
        "dt = DecisionTreeClassifier(max_depth=5, random_state = 42)\n",
        "rf = RandomForestClassifier(max_depth=5, random_state = 42)\n",
        "svc = SVC(probability = True, C=1)\n",
        "knn = KNeighborsClassifier(n_neighbors=7)\n",
        "xgb = XGBClassifier(random_state =1)\n",
        "\n",
        "\n",
        "models = [nb, lr, dt, rf,  svc, knn, xgb ] \n",
        "models_name = [\n",
        "   \"Naive Bayes\",\n",
        "   \"Logistic Regression\",\n",
        "    \"Decision Tree\",\n",
        "    \"Random Forest\",\n",
        "    \"SVM\",\n",
        "    \"K-Nearest Neighbor\",\n",
        "    \"XGBoost\",\n",
        "   \n",
        "]"
      ],
      "metadata": {
        "id": "N9vVMRm4bxIm"
      },
      "execution_count": 77,
      "outputs": []
    },
    {
      "cell_type": "code",
      "source": [
        "# results without CV\n",
        "def ml_model():\n",
        "\n",
        "  results = {}\n",
        "\n",
        "  for index, model in enumerate(models):\n",
        "      model.fit(X_train, y_train)\n",
        "      predict = (model.predict(X_test) > 0.8).astype(int)\n",
        "      confuse = confusion_matrix(y_test, predict)\n",
        "      accur = accuracy_score(y_test, predict)\n",
        "      results[models_name[index]] = accur * 100.0\n",
        "      \n",
        "      title = models_name[index] + \": \" + \"{:.3f}%\".format(accur*100) + \" accurate\\n\"\n",
        "      ax = sns.heatmap(confuse/np.sum(confuse), annot=True, fmt='.1%', cmap=\"Greens\")\n",
        "      ax.set_title(title)\n",
        "      plt.show()\n",
        "  return results\n",
        "results = ml_model()"
      ],
      "metadata": {
        "colab": {
          "base_uri": "https://localhost:8080/",
          "height": 1000
        },
        "id": "7Ec3Vlktfnpb",
        "outputId": "00f2cbc9-8cab-4008-b5da-c96fb9525e8e"
      },
      "execution_count": 78,
      "outputs": [
        {
          "output_type": "display_data",
          "data": {
            "image/png": "[encoded data removed]",
            "text/plain": [
              "<Figure size 432x288 with 2 Axes>"
            ]
          },
          "metadata": {
            "needs_background": "light"
          }
        },
        {
          "output_type": "display_data",
          "data": {
            "image/png": "[encoded data removed]",
            "text/plain": [
              "<Figure size 432x288 with 2 Axes>"
            ]
          },
          "metadata": {
            "needs_background": "light"
          }
        },
        {
          "output_type": "display_data",
          "data": {
            "image/png": "[encoded data removed]",
            "text/plain": [
              "<Figure size 432x288 with 2 Axes>"
            ]
          },
          "metadata": {
            "needs_background": "light"
          }
        },
        {
          "output_type": "display_data",
          "data": {
            "image/png": "[encoded data removed]",
            "text/plain": [
              "<Figure size 432x288 with 2 Axes>"
            ]
          },
          "metadata": {
            "needs_background": "light"
          }
        },
        {
          "output_type": "display_data",
          "data": {
            "image/png": "[encoded data removed]",
            "text/plain": [
              "<Figure size 432x288 with 2 Axes>"
            ]
          },
          "metadata": {
            "needs_background": "light"
          }
        },
        {
          "output_type": "display_data",
          "data": {
            "image/png": "[encoded data removed]",
            "text/plain": [
              "<Figure size 432x288 with 2 Axes>"
            ]
          },
          "metadata": {
            "needs_background": "light"
          }
        },
        {
          "output_type": "display_data",
          "data": {
            "image/png": "[encoded data removed]",
            "text/plain": [
              "<Figure size 432x288 with 2 Axes>"
            ]
          },
          "metadata": {
            "needs_background": "light"
          }
        }
      ]
    },
    {
      "cell_type": "code",
      "source": [
        "x = np.arange(len(results))\n",
        "\n",
        "plt.figure(figsize=(4,4))\n",
        "plt.bar(x, results.values(), width=0.4, color=\"c\", align=\"center\")\n",
        "plt.ylim((50, 100))\n",
        "plt.xticks(x, results.keys())\n",
        "plt.title(\"Performance comparison\")\n",
        "plt.xticks(rotation=40, horizontalalignment=\"right\")\n",
        "plt.ylabel('Accuracy, %')\n",
        "plt.show()"
      ],
      "metadata": {
        "colab": {
          "base_uri": "https://localhost:8080/",
          "height": 341
        },
        "id": "PhIfQPPxfph7",
        "outputId": "94dbbab0-106a-4160-c0e6-b27a5009de5e"
      },
      "execution_count": 79,
      "outputs": [
        {
          "output_type": "display_data",
          "data": {
            "image/png": "[encoded data removed]",
            "text/plain": [
              "<Figure size 288x288 with 1 Axes>"
            ]
          },
          "metadata": {
            "needs_background": "light"
          }
        }
      ]
    },
    {
      "cell_type": "markdown",
      "source": [
        "## **Mitigation for data imblance problem**\n",
        "___\n",
        "* From the above results, it looks the models are predicting the majority (negative investment) class.\n",
        "* Considering down sampling of the majority (negative) and upsampling of the minority (positive) investments to the size of positive and negative investments, respectively, may settle the imbalance situation."
      ],
      "metadata": {
        "id": "Bbt3_fB5sqDD"
      }
    },
    {
      "cell_type": "markdown",
      "source": [
        "## **Strategy I**\n",
        "___\n",
        "* **Down Sample negative investments**"
      ],
      "metadata": {
        "id": "YbGPsOxDNoHw"
      }
    },
    {
      "cell_type": "code",
      "source": [
        "# Get the negative and positive investiments separately\n",
        "df_label_0 = df_lab[df_lab.label==0]\n",
        "df_label_1 = df_lab[df_lab.label==1]"
      ],
      "metadata": {
        "id": "lTIQGzt_kDhz"
      },
      "execution_count": 80,
      "outputs": []
    },
    {
      "cell_type": "code",
      "source": [
        "# randomly sample down the negative investments\n",
        "df_label_0_under = df_label_0.sample(len(df_label_1))\n",
        "df_label_0_under.shape"
      ],
      "metadata": {
        "colab": {
          "base_uri": "https://localhost:8080/"
        },
        "id": "y5HS7vlnmoPb",
        "outputId": "6f2bfd77-07c3-477d-8664-759cc337194a"
      },
      "execution_count": 81,
      "outputs": [
        {
          "output_type": "execute_result",
          "data": {
            "text/plain": [
              "(504, 11)"
            ]
          },
          "metadata": {},
          "execution_count": 81
        }
      ]
    },
    {
      "cell_type": "code",
      "source": [
        "# Merge the two data frames\n",
        "df_merged = pd.concat([df_label_0_under, df_label_1], axis=0)\n",
        "df_merged.shape"
      ],
      "metadata": {
        "colab": {
          "base_uri": "https://localhost:8080/"
        },
        "id": "Fo-OqAU_qk5U",
        "outputId": "000451e3-9ad0-4504-ea26-4995d38c5cd7"
      },
      "execution_count": 82,
      "outputs": [
        {
          "output_type": "execute_result",
          "data": {
            "text/plain": [
              "(1008, 11)"
            ]
          },
          "metadata": {},
          "execution_count": 82
        }
      ]
    },
    {
      "cell_type": "code",
      "source": [
        "df_merged.head()"
      ],
      "metadata": {
        "colab": {
          "base_uri": "https://localhost:8080/",
          "height": 206
        },
        "id": "bDlgDrgascFU",
        "outputId": "0be9acf8-9b28-4d91-8699-716261d304d9"
      },
      "execution_count": 83,
      "outputs": [
        {
          "output_type": "execute_result",
          "data": {
            "text/html": [
              "\n",
              "  <div id=\"df-b91ed592-e46e-45fa-a19b-68f3f413c59d\">\n",
              "    <div class=\"colab-df-container\">\n",
              "      <div>\n",
              "<style scoped>\n",
              "    .dataframe tbody tr th:only-of-type {\n",
              "        vertical-align: middle;\n",
              "    }\n",
              "\n",
              "    .dataframe tbody tr th {\n",
              "        vertical-align: top;\n",
              "    }\n",
              "\n",
              "    .dataframe thead th {\n",
              "        text-align: right;\n",
              "    }\n",
              "</style>\n",
              "<table border=\"1\" class=\"dataframe\">\n",
              "  <thead>\n",
              "    <tr style=\"text-align: right;\">\n",
              "      <th></th>\n",
              "      <th>Date</th>\n",
              "      <th>Open</th>\n",
              "      <th>High</th>\n",
              "      <th>Low</th>\n",
              "      <th>Close</th>\n",
              "      <th>Volume</th>\n",
              "      <th>Dividends</th>\n",
              "      <th>Stock Splits</th>\n",
              "      <th>weekday_name</th>\n",
              "      <th>profit</th>\n",
              "      <th>label</th>\n",
              "    </tr>\n",
              "  </thead>\n",
              "  <tbody>\n",
              "    <tr>\n",
              "      <th>11242</th>\n",
              "      <td>2011-03-03</td>\n",
              "      <td>56.249931</td>\n",
              "      <td>57.273876</td>\n",
              "      <td>56.182661</td>\n",
              "      <td>56.982388</td>\n",
              "      <td>7390100</td>\n",
              "      <td>0.0</td>\n",
              "      <td>0.0</td>\n",
              "      <td>Thursday</td>\n",
              "      <td>-0.008222</td>\n",
              "      <td>0</td>\n",
              "    </tr>\n",
              "    <tr>\n",
              "      <th>13289</th>\n",
              "      <td>2019-04-23</td>\n",
              "      <td>186.291143</td>\n",
              "      <td>187.863462</td>\n",
              "      <td>186.108981</td>\n",
              "      <td>187.201935</td>\n",
              "      <td>2192900</td>\n",
              "      <td>0.0</td>\n",
              "      <td>0.0</td>\n",
              "      <td>Tuesday</td>\n",
              "      <td>0.003981</td>\n",
              "      <td>0</td>\n",
              "    </tr>\n",
              "    <tr>\n",
              "      <th>5958</th>\n",
              "      <td>1990-03-16</td>\n",
              "      <td>4.365953</td>\n",
              "      <td>4.365953</td>\n",
              "      <td>4.348832</td>\n",
              "      <td>4.365953</td>\n",
              "      <td>4211600</td>\n",
              "      <td>0.0</td>\n",
              "      <td>0.0</td>\n",
              "      <td>Friday</td>\n",
              "      <td>0.011764</td>\n",
              "      <td>0</td>\n",
              "    </tr>\n",
              "    <tr>\n",
              "      <th>9442</th>\n",
              "      <td>2004-01-08</td>\n",
              "      <td>15.624070</td>\n",
              "      <td>15.765938</td>\n",
              "      <td>15.525379</td>\n",
              "      <td>15.728930</td>\n",
              "      <td>5282400</td>\n",
              "      <td>0.0</td>\n",
              "      <td>0.0</td>\n",
              "      <td>Thursday</td>\n",
              "      <td>-0.009390</td>\n",
              "      <td>0</td>\n",
              "    </tr>\n",
              "    <tr>\n",
              "      <th>6917</th>\n",
              "      <td>1993-12-30</td>\n",
              "      <td>8.237664</td>\n",
              "      <td>8.255418</td>\n",
              "      <td>8.184403</td>\n",
              "      <td>8.184403</td>\n",
              "      <td>1445600</td>\n",
              "      <td>0.0</td>\n",
              "      <td>0.0</td>\n",
              "      <td>Thursday</td>\n",
              "      <td>-0.002151</td>\n",
              "      <td>0</td>\n",
              "    </tr>\n",
              "  </tbody>\n",
              "</table>\n",
              "</div>\n",
              "      <button class=\"colab-df-convert\" onclick=\"convertToInteractive('df-b91ed592-e46e-45fa-a19b-68f3f413c59d')\"\n",
              "              title=\"Convert this dataframe to an interactive table.\"\n",
              "              style=\"display:none;\">\n",
              "        \n",
              "  <svg xmlns=\"http://www.w3.org/2000/svg\" height=\"24px\"viewBox=\"0 0 24 24\"\n",
              "       width=\"24px\">\n",
              "    <path d=\"M0 0h24v24H0V0z\" fill=\"none\"/>\n",
              "    <path d=\"M18.56 5.44l.94 2.06.94-2.06 2.06-.94-2.06-.94-.94-2.06-.94 2.06-2.06.94zm-11 1L8.5 8.5l.94-2.06 2.06-.94-2.06-.94L8.5 2.5l-.94 2.06-2.06.94zm10 10l.94 2.06.94-2.06 2.06-.94-2.06-.94-.94-2.06-.94 2.06-2.06.94z\"/><path d=\"M17.41 7.96l-1.37-1.37c-.4-.4-.92-.59-1.43-.59-.52 0-1.04.2-1.43.59L10.3 9.45l-7.72 7.72c-.78.78-.78 2.05 0 2.83L4 21.41c.39.39.9.59 1.41.59.51 0 1.02-.2 1.41-.59l7.78-7.78 2.81-2.81c.8-.78.8-2.07 0-2.86zM5.41 20L4 18.59l7.72-7.72 1.47 1.35L5.41 20z\"/>\n",
              "  </svg>\n",
              "      </button>\n",
              "      \n",
              "  <style>\n",
              "    .colab-df-container {\n",
              "      display:flex;\n",
              "      flex-wrap:wrap;\n",
              "      gap: 12px;\n",
              "    }\n",
              "\n",
              "    .colab-df-convert {\n",
              "      background-color: #E8F0FE;\n",
              "      border: none;\n",
              "      border-radius: 50%;\n",
              "      cursor: pointer;\n",
              "      display: none;\n",
              "      fill: #1967D2;\n",
              "      height: 32px;\n",
              "      padding: 0 0 0 0;\n",
              "      width: 32px;\n",
              "    }\n",
              "\n",
              "    .colab-df-convert:hover {\n",
              "      background-color: #E2EBFA;\n",
              "      box-shadow: 0px 1px 2px rgba(60, 64, 67, 0.3), 0px 1px 3px 1px rgba(60, 64, 67, 0.15);\n",
              "      fill: #174EA6;\n",
              "    }\n",
              "\n",
              "    [theme=dark] .colab-df-convert {\n",
              "      background-color: #3B4455;\n",
              "      fill: #D2E3FC;\n",
              "    }\n",
              "\n",
              "    [theme=dark] .colab-df-convert:hover {\n",
              "      background-color: #434B5C;\n",
              "      box-shadow: 0px 1px 3px 1px rgba(0, 0, 0, 0.15);\n",
              "      filter: drop-shadow(0px 1px 2px rgba(0, 0, 0, 0.3));\n",
              "      fill: #FFFFFF;\n",
              "    }\n",
              "  </style>\n",
              "\n",
              "      <script>\n",
              "        const buttonEl =\n",
              "          document.querySelector('#df-b91ed592-e46e-45fa-a19b-68f3f413c59d button.colab-df-convert');\n",
              "        buttonEl.style.display =\n",
              "          google.colab.kernel.accessAllowed ? 'block' : 'none';\n",
              "\n",
              "        async function convertToInteractive(key) {\n",
              "          const element = document.querySelector('#df-b91ed592-e46e-45fa-a19b-68f3f413c59d');\n",
              "          const dataTable =\n",
              "            await google.colab.kernel.invokeFunction('convertToInteractive',\n",
              "                                                     [key], {});\n",
              "          if (!dataTable) return;\n",
              "\n",
              "          const docLinkHtml = 'Like what you see? Visit the ' +\n",
              "            '<a target=\"_blank\" href=https://colab.research.google.com/notebooks/data_table.ipynb>data table notebook</a>'\n",
              "            + ' to learn more about interactive tables.';\n",
              "          element.innerHTML = '';\n",
              "          dataTable['output_type'] = 'display_data';\n",
              "          await google.colab.output.renderOutput(dataTable, element);\n",
              "          const docLink = document.createElement('div');\n",
              "          docLink.innerHTML = docLinkHtml;\n",
              "          element.appendChild(docLink);\n",
              "        }\n",
              "      </script>\n",
              "    </div>\n",
              "  </div>\n",
              "  "
            ],
            "text/plain": [
              "            Date        Open        High  ...  weekday_name    profit  label\n",
              "11242 2011-03-03   56.249931   57.273876  ...      Thursday -0.008222      0\n",
              "13289 2019-04-23  186.291143  187.863462  ...       Tuesday  0.003981      0\n",
              "5958  1990-03-16    4.365953    4.365953  ...        Friday  0.011764      0\n",
              "9442  2004-01-08   15.624070   15.765938  ...      Thursday -0.009390      0\n",
              "6917  1993-12-30    8.237664    8.255418  ...      Thursday -0.002151      0\n",
              "\n",
              "[5 rows x 11 columns]"
            ]
          },
          "metadata": {},
          "execution_count": 83
        }
      ]
    },
    {
      "cell_type": "code",
      "source": [
        "X_train, X_test, y_train, y_test = train_test_split(df_merged[['Open', 'Volume']],\n",
        "                                                    df_merged['label'], test_size=0.25)"
      ],
      "metadata": {
        "id": "EABnexQ7tFUV"
      },
      "execution_count": 84,
      "outputs": []
    },
    {
      "cell_type": "code",
      "source": [
        "def ml_model_down(X_train, y_train, X_test, y_test):\n",
        "\n",
        "  X_train, X_test, y_train, y_test = train_test_split(df_merged[['Open', 'Volume']],\n",
        "                                                    df_merged['label'], test_size=0.25)\n",
        "  results_down = {}\n",
        "\n",
        "  for index, model in enumerate(models):\n",
        "      model.fit(X_train, y_train)\n",
        "      predict = model.predict(X_test) \n",
        "      confuse = confusion_matrix(y_test, predict)\n",
        "      accur = accuracy_score(y_test, predict)\n",
        "      results_down[models_name[index]] = accur * 100.0\n",
        "      \n",
        "      print(f'classification report for {models_name[index]} \\n',classification_report(y_test, predict))\n",
        "      title = models_name[index] + \": \" + \"{:.3f}%\".format(accur*100) + \" accurate\\n\"\n",
        "      ax = sns.heatmap(confuse/np.sum(confuse), annot=True, fmt='.1%', cmap=\"Greens\")\n",
        "      ax.set_title(title)\n",
        "      plt.show()\n",
        "  return  results_down \n",
        "\n",
        "results_down = ml_model_down(X_train, y_train, X_test, y_test)"
      ],
      "metadata": {
        "colab": {
          "base_uri": "https://localhost:8080/",
          "height": 1000
        },
        "id": "bSI3L5eDs7C2",
        "outputId": "cd539016-1db2-490f-f1e4-472da8b06e53"
      },
      "execution_count": 85,
      "outputs": [
        {
          "output_type": "stream",
          "name": "stdout",
          "text": [
            "classification report for Naive Bayes \n",
            "               precision    recall  f1-score   support\n",
            "\n",
            "           0       0.75      0.39      0.51       131\n",
            "           1       0.57      0.86      0.68       121\n",
            "\n",
            "    accuracy                           0.62       252\n",
            "   macro avg       0.66      0.62      0.60       252\n",
            "weighted avg       0.66      0.62      0.59       252\n",
            "\n"
          ]
        },
        {
          "output_type": "display_data",
          "data": {
            "image/png": "[encoded data removed]",
            "text/plain": [
              "<Figure size 432x288 with 2 Axes>"
            ]
          },
          "metadata": {
            "needs_background": "light"
          }
        },
        {
          "output_type": "stream",
          "name": "stderr",
          "text": [
            "/usr/local/lib/python3.7/dist-packages/sklearn/metrics/_classification.py:1308: UndefinedMetricWarning: Precision and F-score are ill-defined and being set to 0.0 in labels with no predicted samples. Use `zero_division` parameter to control this behavior.\n",
            "  _warn_prf(average, modifier, msg_start, len(result))\n",
            "/usr/local/lib/python3.7/dist-packages/sklearn/metrics/_classification.py:1308: UndefinedMetricWarning: Precision and F-score are ill-defined and being set to 0.0 in labels with no predicted samples. Use `zero_division` parameter to control this behavior.\n",
            "  _warn_prf(average, modifier, msg_start, len(result))\n",
            "/usr/local/lib/python3.7/dist-packages/sklearn/metrics/_classification.py:1308: UndefinedMetricWarning: Precision and F-score are ill-defined and being set to 0.0 in labels with no predicted samples. Use `zero_division` parameter to control this behavior.\n",
            "  _warn_prf(average, modifier, msg_start, len(result))\n"
          ]
        },
        {
          "output_type": "stream",
          "name": "stdout",
          "text": [
            "classification report for Logistic Regression \n",
            "               precision    recall  f1-score   support\n",
            "\n",
            "           0       0.52      1.00      0.68       131\n",
            "           1       0.00      0.00      0.00       121\n",
            "\n",
            "    accuracy                           0.52       252\n",
            "   macro avg       0.26      0.50      0.34       252\n",
            "weighted avg       0.27      0.52      0.36       252\n",
            "\n"
          ]
        },
        {
          "output_type": "display_data",
          "data": {
            "image/png": "[encoded data removed]",
            "text/plain": [
              "<Figure size 432x288 with 2 Axes>"
            ]
          },
          "metadata": {
            "needs_background": "light"
          }
        },
        {
          "output_type": "stream",
          "name": "stdout",
          "text": [
            "classification report for Decision Tree \n",
            "               precision    recall  f1-score   support\n",
            "\n",
            "           0       0.79      0.71      0.75       131\n",
            "           1       0.72      0.79      0.75       121\n",
            "\n",
            "    accuracy                           0.75       252\n",
            "   macro avg       0.75      0.75      0.75       252\n",
            "weighted avg       0.75      0.75      0.75       252\n",
            "\n"
          ]
        },
        {
          "output_type": "display_data",
          "data": {
            "image/png": "[encoded data removed]",
            "text/plain": [
              "<Figure size 432x288 with 2 Axes>"
            ]
          },
          "metadata": {
            "needs_background": "light"
          }
        },
        {
          "output_type": "stream",
          "name": "stdout",
          "text": [
            "classification report for Random Forest \n",
            "               precision    recall  f1-score   support\n",
            "\n",
            "           0       0.87      0.69      0.77       131\n",
            "           1       0.72      0.89      0.80       121\n",
            "\n",
            "    accuracy                           0.79       252\n",
            "   macro avg       0.80      0.79      0.78       252\n",
            "weighted avg       0.80      0.79      0.78       252\n",
            "\n"
          ]
        },
        {
          "output_type": "display_data",
          "data": {
            "image/png": "[encoded data removed]",
            "text/plain": [
              "<Figure size 432x288 with 2 Axes>"
            ]
          },
          "metadata": {
            "needs_background": "light"
          }
        },
        {
          "output_type": "stream",
          "name": "stdout",
          "text": [
            "classification report for SVM \n",
            "               precision    recall  f1-score   support\n",
            "\n",
            "           0       0.59      0.83      0.69       131\n",
            "           1       0.68      0.38      0.49       121\n",
            "\n",
            "    accuracy                           0.62       252\n",
            "   macro avg       0.63      0.61      0.59       252\n",
            "weighted avg       0.63      0.62      0.59       252\n",
            "\n"
          ]
        },
        {
          "output_type": "display_data",
          "data": {
            "image/png": "[encoded data removed]",
            "text/plain": [
              "<Figure size 432x288 with 2 Axes>"
            ]
          },
          "metadata": {
            "needs_background": "light"
          }
        },
        {
          "output_type": "stream",
          "name": "stdout",
          "text": [
            "classification report for K-Nearest Neighbor \n",
            "               precision    recall  f1-score   support\n",
            "\n",
            "           0       0.60      0.62      0.61       131\n",
            "           1       0.58      0.56      0.57       121\n",
            "\n",
            "    accuracy                           0.59       252\n",
            "   macro avg       0.59      0.59      0.59       252\n",
            "weighted avg       0.59      0.59      0.59       252\n",
            "\n"
          ]
        },
        {
          "output_type": "display_data",
          "data": {
            "image/png": "[encoded data removed]",
            "text/plain": [
              "<Figure size 432x288 with 2 Axes>"
            ]
          },
          "metadata": {
            "needs_background": "light"
          }
        },
        {
          "output_type": "stream",
          "name": "stdout",
          "text": [
            "classification report for XGBoost \n",
            "               precision    recall  f1-score   support\n",
            "\n",
            "           0       0.84      0.71      0.77       131\n",
            "           1       0.73      0.85      0.79       121\n",
            "\n",
            "    accuracy                           0.78       252\n",
            "   macro avg       0.78      0.78      0.78       252\n",
            "weighted avg       0.79      0.78      0.78       252\n",
            "\n"
          ]
        },
        {
          "output_type": "display_data",
          "data": {
            "image/png": "[encoded data removed]",
            "text/plain": [
              "<Figure size 432x288 with 2 Axes>"
            ]
          },
          "metadata": {
            "needs_background": "light"
          }
        }
      ]
    },
    {
      "cell_type": "markdown",
      "source": [
        "## **Strategy II**\n",
        "___\n",
        "* **Up (over) Sample positive investments**"
      ],
      "metadata": {
        "id": "UpEFkxrSNFUC"
      }
    },
    {
      "cell_type": "code",
      "source": [
        "# randomly sample down the negative investments\n",
        "df_label_1_over = df_label_1.sample(len(df_label_0), replace=True)\n",
        "df_label_1_over.shape\n",
        "\n",
        "# Merge the two data frames\n",
        "df_merged_ov = pd.concat([df_label_0, df_label_1_over], axis=0)\n",
        "df_merged_ov.shape"
      ],
      "metadata": {
        "colab": {
          "base_uri": "https://localhost:8080/"
        },
        "id": "Eh0HmnmdGAOg",
        "outputId": "f47b3504-5ad4-4dfb-8674-6d7147a0d856"
      },
      "execution_count": 86,
      "outputs": [
        {
          "output_type": "execute_result",
          "data": {
            "text/plain": [
              "(26428, 11)"
            ]
          },
          "metadata": {},
          "execution_count": 86
        }
      ]
    },
    {
      "cell_type": "code",
      "source": [
        "def ml_model_over(X_train, y_train, X_test, y_test):\n",
        "\n",
        "  X_train, X_test, y_train, y_test = train_test_split(df_merged_ov[['Open', 'Volume']],\n",
        "                                                    df_merged_ov['label'], test_size=0.25)\n",
        "  results_over = {}\n",
        "\n",
        "  for index, model in enumerate(models):\n",
        "      model.fit(X_train, y_train)\n",
        "      predict = model.predict(X_test) \n",
        "      confuse = confusion_matrix(y_test, predict) \n",
        "      accur = accuracy_score(y_test, predict)\n",
        "      results_over[models_name[index]] = accur * 100.0\n",
        "      \n",
        "      print(f'classification report for {models_name[index]} \\n',\n",
        "            classification_report(y_test, predict))  # the term labels=np.unique(prediced) removes the warning due to zero division\n",
        "      title = models_name[index] + \": \" + \"{:.3f}%\".format(accur*100) + \" accurate\\n\"\n",
        "      ax = sns.heatmap(confuse/np.sum(confuse), annot=True, fmt='.1%', cmap=\"Greens\")\n",
        "      ax.set_title(title)\n",
        "      plt.show()\n",
        "  return  results_over \n",
        "\n",
        "results_over = ml_model_over(X_train, y_train, X_test, y_test)"
      ],
      "metadata": {
        "colab": {
          "base_uri": "https://localhost:8080/",
          "height": 1000
        },
        "id": "zNHaYKvoGuj5",
        "outputId": "943f01c4-e8ba-4e31-ae26-0a11e127bc3a"
      },
      "execution_count": 87,
      "outputs": [
        {
          "output_type": "stream",
          "name": "stdout",
          "text": [
            "classification report for Naive Bayes \n",
            "               precision    recall  f1-score   support\n",
            "\n",
            "           0       0.68      0.32      0.44      3360\n",
            "           1       0.55      0.84      0.66      3247\n",
            "\n",
            "    accuracy                           0.58      6607\n",
            "   macro avg       0.61      0.58      0.55      6607\n",
            "weighted avg       0.61      0.58      0.55      6607\n",
            "\n"
          ]
        },
        {
          "output_type": "display_data",
          "data": {
            "image/png": "[encoded data removed]",
            "text/plain": [
              "<Figure size 432x288 with 2 Axes>"
            ]
          },
          "metadata": {
            "needs_background": "light"
          }
        },
        {
          "output_type": "stream",
          "name": "stderr",
          "text": [
            "/usr/local/lib/python3.7/dist-packages/sklearn/metrics/_classification.py:1308: UndefinedMetricWarning: Precision and F-score are ill-defined and being set to 0.0 in labels with no predicted samples. Use `zero_division` parameter to control this behavior.\n",
            "  _warn_prf(average, modifier, msg_start, len(result))\n",
            "/usr/local/lib/python3.7/dist-packages/sklearn/metrics/_classification.py:1308: UndefinedMetricWarning: Precision and F-score are ill-defined and being set to 0.0 in labels with no predicted samples. Use `zero_division` parameter to control this behavior.\n",
            "  _warn_prf(average, modifier, msg_start, len(result))\n",
            "/usr/local/lib/python3.7/dist-packages/sklearn/metrics/_classification.py:1308: UndefinedMetricWarning: Precision and F-score are ill-defined and being set to 0.0 in labels with no predicted samples. Use `zero_division` parameter to control this behavior.\n",
            "  _warn_prf(average, modifier, msg_start, len(result))\n"
          ]
        },
        {
          "output_type": "stream",
          "name": "stdout",
          "text": [
            "classification report for Logistic Regression \n",
            "               precision    recall  f1-score   support\n",
            "\n",
            "           0       0.51      1.00      0.67      3360\n",
            "           1       0.00      0.00      0.00      3247\n",
            "\n",
            "    accuracy                           0.51      6607\n",
            "   macro avg       0.25      0.50      0.34      6607\n",
            "weighted avg       0.26      0.51      0.34      6607\n",
            "\n"
          ]
        },
        {
          "output_type": "display_data",
          "data": {
            "image/png": "[encoded data removed]",
            "text/plain": [
              "<Figure size 432x288 with 2 Axes>"
            ]
          },
          "metadata": {
            "needs_background": "light"
          }
        },
        {
          "output_type": "stream",
          "name": "stdout",
          "text": [
            "classification report for Decision Tree \n",
            "               precision    recall  f1-score   support\n",
            "\n",
            "           0       0.80      0.76      0.78      3360\n",
            "           1       0.76      0.81      0.78      3247\n",
            "\n",
            "    accuracy                           0.78      6607\n",
            "   macro avg       0.78      0.78      0.78      6607\n",
            "weighted avg       0.78      0.78      0.78      6607\n",
            "\n"
          ]
        },
        {
          "output_type": "display_data",
          "data": {
            "image/png": "[encoded data removed]",
            "text/plain": [
              "<Figure size 432x288 with 2 Axes>"
            ]
          },
          "metadata": {
            "needs_background": "light"
          }
        },
        {
          "output_type": "stream",
          "name": "stdout",
          "text": [
            "classification report for Random Forest \n",
            "               precision    recall  f1-score   support\n",
            "\n",
            "           0       0.84      0.69      0.76      3360\n",
            "           1       0.73      0.86      0.79      3247\n",
            "\n",
            "    accuracy                           0.77      6607\n",
            "   macro avg       0.78      0.78      0.77      6607\n",
            "weighted avg       0.78      0.77      0.77      6607\n",
            "\n"
          ]
        },
        {
          "output_type": "display_data",
          "data": {
            "image/png": "[encoded data removed]",
            "text/plain": [
              "<Figure size 432x288 with 2 Axes>"
            ]
          },
          "metadata": {
            "needs_background": "light"
          }
        },
        {
          "output_type": "stream",
          "name": "stdout",
          "text": [
            "classification report for SVM \n",
            "               precision    recall  f1-score   support\n",
            "\n",
            "           0       0.56      0.82      0.67      3360\n",
            "           1       0.64      0.34      0.45      3247\n",
            "\n",
            "    accuracy                           0.58      6607\n",
            "   macro avg       0.60      0.58      0.56      6607\n",
            "weighted avg       0.60      0.58      0.56      6607\n",
            "\n"
          ]
        },
        {
          "output_type": "display_data",
          "data": {
            "image/png": "[encoded data removed]",
            "text/plain": [
              "<Figure size 432x288 with 2 Axes>"
            ]
          },
          "metadata": {
            "needs_background": "light"
          }
        },
        {
          "output_type": "stream",
          "name": "stdout",
          "text": [
            "classification report for K-Nearest Neighbor \n",
            "               precision    recall  f1-score   support\n",
            "\n",
            "           0       1.00      0.82      0.90      3360\n",
            "           1       0.84      1.00      0.91      3247\n",
            "\n",
            "    accuracy                           0.91      6607\n",
            "   macro avg       0.92      0.91      0.91      6607\n",
            "weighted avg       0.92      0.91      0.91      6607\n",
            "\n"
          ]
        },
        {
          "output_type": "display_data",
          "data": {
            "image/png": "[encoded data removed]",
            "text/plain": [
              "<Figure size 432x288 with 2 Axes>"
            ]
          },
          "metadata": {
            "needs_background": "light"
          }
        },
        {
          "output_type": "stream",
          "name": "stdout",
          "text": [
            "classification report for XGBoost \n",
            "               precision    recall  f1-score   support\n",
            "\n",
            "           0       0.84      0.75      0.79      3360\n",
            "           1       0.77      0.85      0.81      3247\n",
            "\n",
            "    accuracy                           0.80      6607\n",
            "   macro avg       0.80      0.80      0.80      6607\n",
            "weighted avg       0.80      0.80      0.80      6607\n",
            "\n"
          ]
        },
        {
          "output_type": "display_data",
          "data": {
            "image/png": "[encoded data removed]",
            "text/plain": [
              "<Figure size 432x288 with 2 Axes>"
            ]
          },
          "metadata": {
            "needs_background": "light"
          }
        }
      ]
    },
    {
      "cell_type": "code",
      "source": [
        "# x = np.arange(len(results_down))\n",
        "\n",
        "# plt.figure(figsize=(4,4))\n",
        "# plt.bar(x, results_down.values(), width=0.4, color=\"c\", align=\"center\")\n",
        "# plt.bar(x+0.4, results_over.values(), width=0.4, color=\"r\", align=\"center\")\n",
        "# plt.ylim((50, 100))\n",
        "# plt.xticks(x, results_down.keys())\n",
        "# plt.title(\"Performance comparison\")\n",
        "# plt.xticks( rotation=40, horizontalalignment=\"right\")\n",
        "# plt.ylabel('Accuracy, %')\n",
        "# plt.legend(('downsample','upsample'))\n",
        "# plt.show()\n",
        "\n",
        "x = np.arange(len(results_over))\n",
        "\n",
        "plt.figure(figsize=(4,4))\n",
        "ax = plt.subplot(111)\n",
        "ax.bar(x, results_down.values(), width=0.4, color=\"c\", align=\"center\")\n",
        "ax.bar(x+0.4, results_over.values(), width=0.4, color=\"r\", align=\"center\")\n",
        "ax.legend((\"downsample\", \"upsample\"), loc='upper left') # bbox_to_anchor=(0.8, 1)\n",
        "plt.ylim((50, 100))\n",
        "plt.xticks(x, results_over.keys())\n",
        "plt.title(\"Model performance comparison\")\n",
        "plt.xticks( rotation=40, horizontalalignment=\"right\")\n",
        "plt.ylabel('Accuracy, %')\n",
        "plt.show()"
      ],
      "metadata": {
        "colab": {
          "base_uri": "https://localhost:8080/",
          "height": 341
        },
        "id": "g3tQfYXCtAqA",
        "outputId": "ceecccd5-54e1-4e4a-98b5-e457ed49fecf"
      },
      "execution_count": 88,
      "outputs": [
        {
          "output_type": "display_data",
          "data": {
            "image/png": "[encoded data removed]",
            "text/plain": [
              "<Figure size 288x288 with 1 Axes>"
            ]
          },
          "metadata": {
            "needs_background": "light"
          }
        }
      ]
    },
    {
      "cell_type": "code",
      "source": [
        ""
      ],
      "metadata": {
        "id": "8nQ3natJ9Dn2"
      },
      "execution_count": 88,
      "outputs": []
    },
    {
      "cell_type": "markdown",
      "source": [
        "## **Deepe learning**"
      ],
      "metadata": {
        "id": "w_JdIGcQUyo0"
      }
    },
    {
      "cell_type": "code",
      "source": [
        "from pandas.core.algorithms import mode\n",
        "def ann():\n",
        "\n",
        "  loss = keras.losses.BinaryCrossentropy()\n",
        "  weights = -1  # use the model with out weights\n",
        "\n",
        "  model = keras.Sequential(\n",
        "      [keras.layers.Dense(2, input_dim = len(X_train.columns), activation = 'relu'),\n",
        "       keras.layers.Dense(2, activation = 'relu'),\n",
        "       keras.layers.Dense(1, activation = 'sigmoid')]\n",
        "       )\n",
        "  model.compile(optimizer = 'adam', loss = loss, metrics = 'accuracy')\n",
        "\n",
        "  if weights == -1:\n",
        "    model.fit(X_train,y_train, epochs = 100)\n",
        "  else:\n",
        "    model.fit(X_train,y_train, epochs = 100, class_weights = weights)\n",
        "\n",
        "  print(model.evaluate(X_test, y_test))\n",
        "\n",
        "  y_preds = np.round(model.predict(X_test))\n",
        "\n",
        "  print('ANN model Classification report \\n', classification_report(y_test, y_preds))\n",
        "\n",
        "  return y_preds\n",
        "  "
      ],
      "metadata": {
        "id": "KjuytMF9VPMH"
      },
      "execution_count": 89,
      "outputs": []
    },
    {
      "cell_type": "code",
      "source": [
        "predicted = ann()"
      ],
      "metadata": {
        "colab": {
          "base_uri": "https://localhost:8080/"
        },
        "id": "IjtIB7DLYCSC",
        "outputId": "5cdb9eb0-d555-4a9f-e47d-f9dcf3ff12a0"
      },
      "execution_count": 90,
      "outputs": [
        {
          "output_type": "stream",
          "name": "stdout",
          "text": [
            "Epoch 1/100\n",
            "24/24 [==============================] - 1s 2ms/step - loss: 150382.2188 - accuracy: 0.4974\n",
            "Epoch 2/100\n",
            "24/24 [==============================] - 0s 2ms/step - loss: 104481.4844 - accuracy: 0.4974\n",
            "Epoch 3/100\n",
            "24/24 [==============================] - 0s 2ms/step - loss: 64239.4219 - accuracy: 0.4974\n",
            "Epoch 4/100\n",
            "24/24 [==============================] - 0s 2ms/step - loss: 41083.1484 - accuracy: 0.4974\n",
            "Epoch 5/100\n",
            "24/24 [==============================] - 0s 2ms/step - loss: 22929.8574 - accuracy: 0.4974\n",
            "Epoch 6/100\n",
            "24/24 [==============================] - 0s 2ms/step - loss: 6541.3286 - accuracy: 0.4947\n",
            "Epoch 7/100\n",
            "24/24 [==============================] - 0s 2ms/step - loss: 0.6954 - accuracy: 0.5026\n",
            "Epoch 8/100\n",
            "24/24 [==============================] - 0s 2ms/step - loss: 0.6954 - accuracy: 0.5026\n",
            "Epoch 9/100\n",
            "24/24 [==============================] - 0s 3ms/step - loss: 0.6954 - accuracy: 0.5026\n",
            "Epoch 10/100\n",
            "24/24 [==============================] - 0s 2ms/step - loss: 0.6953 - accuracy: 0.5026\n",
            "Epoch 11/100\n",
            "24/24 [==============================] - 0s 2ms/step - loss: 0.6952 - accuracy: 0.5026\n",
            "Epoch 12/100\n",
            "24/24 [==============================] - 0s 2ms/step - loss: 0.6952 - accuracy: 0.5026\n",
            "Epoch 13/100\n",
            "24/24 [==============================] - 0s 2ms/step - loss: 0.6951 - accuracy: 0.5026\n",
            "Epoch 14/100\n",
            "24/24 [==============================] - 0s 2ms/step - loss: 0.6950 - accuracy: 0.5026\n",
            "Epoch 15/100\n",
            "24/24 [==============================] - 0s 2ms/step - loss: 0.6950 - accuracy: 0.5026\n",
            "Epoch 16/100\n",
            "24/24 [==============================] - 0s 2ms/step - loss: 0.6949 - accuracy: 0.5026\n",
            "Epoch 17/100\n",
            "24/24 [==============================] - 0s 2ms/step - loss: 0.6948 - accuracy: 0.5026\n",
            "Epoch 18/100\n",
            "24/24 [==============================] - 0s 2ms/step - loss: 0.6948 - accuracy: 0.5026\n",
            "Epoch 19/100\n",
            "24/24 [==============================] - 0s 2ms/step - loss: 0.6947 - accuracy: 0.5026\n",
            "Epoch 20/100\n",
            "24/24 [==============================] - 0s 2ms/step - loss: 0.6947 - accuracy: 0.5026\n",
            "Epoch 21/100\n",
            "24/24 [==============================] - 0s 2ms/step - loss: 0.6945 - accuracy: 0.5026\n",
            "Epoch 22/100\n",
            "24/24 [==============================] - 0s 2ms/step - loss: 0.6945 - accuracy: 0.5026\n",
            "Epoch 23/100\n",
            "24/24 [==============================] - 0s 2ms/step - loss: 0.6944 - accuracy: 0.5026\n",
            "Epoch 24/100\n",
            "24/24 [==============================] - 0s 2ms/step - loss: 0.6944 - accuracy: 0.5026\n",
            "Epoch 25/100\n",
            "24/24 [==============================] - 0s 2ms/step - loss: 0.6943 - accuracy: 0.5026\n",
            "Epoch 26/100\n",
            "24/24 [==============================] - 0s 2ms/step - loss: 0.6942 - accuracy: 0.5026\n",
            "Epoch 27/100\n",
            "24/24 [==============================] - 0s 2ms/step - loss: 0.6942 - accuracy: 0.5026\n",
            "Epoch 28/100\n",
            "24/24 [==============================] - 0s 2ms/step - loss: 0.6941 - accuracy: 0.5026\n",
            "Epoch 29/100\n",
            "24/24 [==============================] - 0s 2ms/step - loss: 0.6941 - accuracy: 0.5026\n",
            "Epoch 30/100\n",
            "24/24 [==============================] - 0s 2ms/step - loss: 0.6940 - accuracy: 0.5026\n",
            "Epoch 31/100\n",
            "24/24 [==============================] - 0s 2ms/step - loss: 0.6940 - accuracy: 0.5026\n",
            "Epoch 32/100\n",
            "24/24 [==============================] - 0s 2ms/step - loss: 0.6939 - accuracy: 0.5026\n",
            "Epoch 33/100\n",
            "24/24 [==============================] - 0s 2ms/step - loss: 0.6939 - accuracy: 0.5026\n",
            "Epoch 34/100\n",
            "24/24 [==============================] - 0s 2ms/step - loss: 0.6938 - accuracy: 0.5026\n",
            "Epoch 35/100\n",
            "24/24 [==============================] - 0s 2ms/step - loss: 0.6938 - accuracy: 0.5026\n",
            "Epoch 36/100\n",
            "24/24 [==============================] - 0s 2ms/step - loss: 0.6938 - accuracy: 0.5026\n",
            "Epoch 37/100\n",
            "24/24 [==============================] - 0s 2ms/step - loss: 0.6937 - accuracy: 0.5026\n",
            "Epoch 38/100\n",
            "24/24 [==============================] - 0s 2ms/step - loss: 0.6937 - accuracy: 0.5026\n",
            "Epoch 39/100\n",
            "24/24 [==============================] - 0s 2ms/step - loss: 0.6936 - accuracy: 0.5026\n",
            "Epoch 40/100\n",
            "24/24 [==============================] - 0s 2ms/step - loss: 0.6936 - accuracy: 0.5026\n",
            "Epoch 41/100\n",
            "24/24 [==============================] - 0s 2ms/step - loss: 0.6936 - accuracy: 0.5026\n",
            "Epoch 42/100\n",
            "24/24 [==============================] - 0s 2ms/step - loss: 0.6936 - accuracy: 0.5026\n",
            "Epoch 43/100\n",
            "24/24 [==============================] - 0s 2ms/step - loss: 0.6935 - accuracy: 0.5026\n",
            "Epoch 44/100\n",
            "24/24 [==============================] - 0s 2ms/step - loss: 0.6935 - accuracy: 0.5026\n",
            "Epoch 45/100\n",
            "24/24 [==============================] - 0s 3ms/step - loss: 0.6935 - accuracy: 0.5026\n",
            "Epoch 46/100\n",
            "24/24 [==============================] - 0s 2ms/step - loss: 0.6934 - accuracy: 0.5026\n",
            "Epoch 47/100\n",
            "24/24 [==============================] - 0s 3ms/step - loss: 0.6934 - accuracy: 0.5026\n",
            "Epoch 48/100\n",
            "24/24 [==============================] - 0s 2ms/step - loss: 0.6935 - accuracy: 0.5026\n",
            "Epoch 49/100\n",
            "24/24 [==============================] - 0s 2ms/step - loss: 0.6934 - accuracy: 0.5026\n",
            "Epoch 50/100\n",
            "24/24 [==============================] - 0s 2ms/step - loss: 0.6934 - accuracy: 0.5026\n",
            "Epoch 51/100\n",
            "24/24 [==============================] - 0s 2ms/step - loss: 0.6933 - accuracy: 0.5026\n",
            "Epoch 52/100\n",
            "24/24 [==============================] - 0s 2ms/step - loss: 0.6933 - accuracy: 0.5026\n",
            "Epoch 53/100\n",
            "24/24 [==============================] - 0s 2ms/step - loss: 0.6933 - accuracy: 0.5026\n",
            "Epoch 54/100\n",
            "24/24 [==============================] - 0s 2ms/step - loss: 0.6933 - accuracy: 0.5026\n",
            "Epoch 55/100\n",
            "24/24 [==============================] - 0s 2ms/step - loss: 0.6933 - accuracy: 0.5026\n",
            "Epoch 56/100\n",
            "24/24 [==============================] - 0s 2ms/step - loss: 0.6933 - accuracy: 0.5026\n",
            "Epoch 57/100\n",
            "24/24 [==============================] - 0s 2ms/step - loss: 0.6933 - accuracy: 0.5026\n",
            "Epoch 58/100\n",
            "24/24 [==============================] - 0s 2ms/step - loss: 0.6933 - accuracy: 0.5026\n",
            "Epoch 59/100\n",
            "24/24 [==============================] - 0s 2ms/step - loss: 0.6932 - accuracy: 0.5026\n",
            "Epoch 60/100\n",
            "24/24 [==============================] - 0s 2ms/step - loss: 0.6932 - accuracy: 0.5026\n",
            "Epoch 61/100\n",
            "24/24 [==============================] - 0s 2ms/step - loss: 0.6932 - accuracy: 0.5026\n",
            "Epoch 62/100\n",
            "24/24 [==============================] - 0s 2ms/step - loss: 0.6932 - accuracy: 0.5026\n",
            "Epoch 63/100\n",
            "24/24 [==============================] - 0s 2ms/step - loss: 0.6932 - accuracy: 0.5026\n",
            "Epoch 64/100\n",
            "24/24 [==============================] - 0s 1ms/step - loss: 0.6932 - accuracy: 0.5026\n",
            "Epoch 65/100\n",
            "24/24 [==============================] - 0s 2ms/step - loss: 0.6933 - accuracy: 0.5026\n",
            "Epoch 66/100\n",
            "24/24 [==============================] - 0s 2ms/step - loss: 0.6932 - accuracy: 0.5026\n",
            "Epoch 67/100\n",
            "24/24 [==============================] - 0s 2ms/step - loss: 0.6932 - accuracy: 0.5026\n",
            "Epoch 68/100\n",
            "24/24 [==============================] - 0s 2ms/step - loss: 0.6932 - accuracy: 0.5026\n",
            "Epoch 69/100\n",
            "24/24 [==============================] - 0s 3ms/step - loss: 0.6932 - accuracy: 0.5026\n",
            "Epoch 70/100\n",
            "24/24 [==============================] - 0s 2ms/step - loss: 0.6932 - accuracy: 0.5026\n",
            "Epoch 71/100\n",
            "24/24 [==============================] - 0s 2ms/step - loss: 0.6932 - accuracy: 0.5026\n",
            "Epoch 72/100\n",
            "24/24 [==============================] - 0s 2ms/step - loss: 0.6932 - accuracy: 0.5026\n",
            "Epoch 73/100\n",
            "24/24 [==============================] - 0s 1ms/step - loss: 0.6932 - accuracy: 0.5026\n",
            "Epoch 74/100\n",
            "24/24 [==============================] - 0s 2ms/step - loss: 0.6932 - accuracy: 0.5026\n",
            "Epoch 75/100\n",
            "24/24 [==============================] - 0s 2ms/step - loss: 0.6932 - accuracy: 0.5026\n",
            "Epoch 76/100\n",
            "24/24 [==============================] - 0s 2ms/step - loss: 0.6932 - accuracy: 0.5026\n",
            "Epoch 77/100\n",
            "24/24 [==============================] - 0s 2ms/step - loss: 0.6932 - accuracy: 0.5026\n",
            "Epoch 78/100\n",
            "24/24 [==============================] - 0s 2ms/step - loss: 0.6932 - accuracy: 0.5026\n",
            "Epoch 79/100\n",
            "24/24 [==============================] - 0s 2ms/step - loss: 0.6932 - accuracy: 0.5026\n",
            "Epoch 80/100\n",
            "24/24 [==============================] - 0s 2ms/step - loss: 0.6931 - accuracy: 0.5026\n",
            "Epoch 81/100\n",
            "24/24 [==============================] - 0s 2ms/step - loss: 0.6931 - accuracy: 0.5026\n",
            "Epoch 82/100\n",
            "24/24 [==============================] - 0s 2ms/step - loss: 0.6932 - accuracy: 0.5026\n",
            "Epoch 83/100\n",
            "24/24 [==============================] - 0s 2ms/step - loss: 0.6931 - accuracy: 0.5026\n",
            "Epoch 84/100\n",
            "24/24 [==============================] - 0s 2ms/step - loss: 0.6931 - accuracy: 0.5026\n",
            "Epoch 85/100\n",
            "24/24 [==============================] - 0s 2ms/step - loss: 0.6932 - accuracy: 0.5026\n",
            "Epoch 86/100\n",
            "24/24 [==============================] - 0s 2ms/step - loss: 0.6932 - accuracy: 0.5026\n",
            "Epoch 87/100\n",
            "24/24 [==============================] - 0s 2ms/step - loss: 0.6932 - accuracy: 0.5026\n",
            "Epoch 88/100\n",
            "24/24 [==============================] - 0s 2ms/step - loss: 0.6932 - accuracy: 0.5026\n",
            "Epoch 89/100\n",
            "24/24 [==============================] - 0s 2ms/step - loss: 0.6931 - accuracy: 0.5026\n",
            "Epoch 90/100\n",
            "24/24 [==============================] - 0s 2ms/step - loss: 0.6932 - accuracy: 0.5026\n",
            "Epoch 91/100\n",
            "24/24 [==============================] - 0s 1ms/step - loss: 0.6932 - accuracy: 0.5026\n",
            "Epoch 92/100\n",
            "24/24 [==============================] - 0s 2ms/step - loss: 0.6931 - accuracy: 0.5026\n",
            "Epoch 93/100\n",
            "24/24 [==============================] - 0s 2ms/step - loss: 0.6932 - accuracy: 0.5026\n",
            "Epoch 94/100\n",
            "24/24 [==============================] - 0s 2ms/step - loss: 0.6931 - accuracy: 0.5026\n",
            "Epoch 95/100\n",
            "24/24 [==============================] - 0s 2ms/step - loss: 0.6931 - accuracy: 0.5026\n",
            "Epoch 96/100\n",
            "24/24 [==============================] - 0s 2ms/step - loss: 0.6932 - accuracy: 0.5026\n",
            "Epoch 97/100\n",
            "24/24 [==============================] - 0s 2ms/step - loss: 0.6931 - accuracy: 0.5026\n",
            "Epoch 98/100\n",
            "24/24 [==============================] - 0s 2ms/step - loss: 0.6931 - accuracy: 0.5026\n",
            "Epoch 99/100\n",
            "24/24 [==============================] - 0s 2ms/step - loss: 0.6931 - accuracy: 0.5026\n",
            "Epoch 100/100\n",
            "24/24 [==============================] - 0s 2ms/step - loss: 0.6931 - accuracy: 0.5026\n",
            "8/8 [==============================] - 0s 2ms/step - loss: 0.6933 - accuracy: 0.4921\n",
            "[0.693270742893219, 0.4920634925365448]\n",
            "ANN model Classification report \n",
            "               precision    recall  f1-score   support\n",
            "\n",
            "           0       0.00      0.00      0.00       128\n",
            "           1       0.49      1.00      0.66       124\n",
            "\n",
            "    accuracy                           0.49       252\n",
            "   macro avg       0.25      0.50      0.33       252\n",
            "weighted avg       0.24      0.49      0.32       252\n",
            "\n"
          ]
        },
        {
          "output_type": "stream",
          "name": "stderr",
          "text": [
            "/usr/local/lib/python3.7/dist-packages/sklearn/metrics/_classification.py:1308: UndefinedMetricWarning: Precision and F-score are ill-defined and being set to 0.0 in labels with no predicted samples. Use `zero_division` parameter to control this behavior.\n",
            "  _warn_prf(average, modifier, msg_start, len(result))\n",
            "/usr/local/lib/python3.7/dist-packages/sklearn/metrics/_classification.py:1308: UndefinedMetricWarning: Precision and F-score are ill-defined and being set to 0.0 in labels with no predicted samples. Use `zero_division` parameter to control this behavior.\n",
            "  _warn_prf(average, modifier, msg_start, len(result))\n",
            "/usr/local/lib/python3.7/dist-packages/sklearn/metrics/_classification.py:1308: UndefinedMetricWarning: Precision and F-score are ill-defined and being set to 0.0 in labels with no predicted samples. Use `zero_division` parameter to control this behavior.\n",
            "  _warn_prf(average, modifier, msg_start, len(result))\n"
          ]
        }
      ]
    },
    {
      "cell_type": "code",
      "source": [
        ""
      ],
      "metadata": {
        "id": "EfP1yjurYBOE"
      },
      "execution_count": 90,
      "outputs": []
    }
  ]
}
