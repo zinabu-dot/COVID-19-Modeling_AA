{
  "nbformat": 4,
  "nbformat_minor": 0,
  "metadata": {
    "colab": {
      "name": "Zinabu Melese.ipynb",
      "provenance": [],
      "authorship_tag": "ABX9TyNoTsyh9vu+AIXKsanIW8Vr",
      "include_colab_link": true
    },
    "kernelspec": {
      "name": "python3",
      "display_name": "Python 3"
    },
    "language_info": {
      "name": "python"
    }
  },
  "cells": [
    {
      "cell_type": "markdown",
      "metadata": {
        "id": "view-in-github",
        "colab_type": "text"
      },
      "source": [
        "<a href=\"https://colab.research.google.com/github/zinabu-dot/COVID-19-Modeling_AA/blob/master/Zinabu_Melese.ipynb\" target=\"_parent\"><img src=\"https://colab.research.google.com/assets/colab-badge.svg\" alt=\"Open In Colab\"/></a>"
      ]
    },
    {
      "cell_type": "markdown",
      "source": [
        "## **Assignment for Senior Data Scientist RaboResearch Financial markets & Economic research**\n",
        "---\n",
        "* The business problem appears to focus on making an **investment** on McDonald’s stock (MCD) if at least **10% profit** is about to earn in the next 10 working days following the purchase day. \n",
        "\n",
        "* Considering the nature of the challenge (as already stated in the assignment document), the assignment is a **classification (binary)** problem. \n",
        "\n",
        "* The dataset for this challenge are based on [Raboresearch_label_data](https://docs.google.com/uc?export=download&id=1cp5YFvszZuFw3IusD6EWKfL8AeCSf9Lg) and [Raboresearch_feature_data](https://docs.google.com/uc?export=download&id=1BawB1Zm43rmk7HMftFWnwizN-cyd7nnD) and can be accessed using the following commands."
      ],
      "metadata": {
        "id": "RMErvRelN6UW"
      }
    },
    {
      "cell_type": "code",
      "source": [
        "!wget -O label_raw.csv 'https://docs.google.com/uc?export=download&id=1cp5YFvszZuFw3IusD6EWKfL8AeCSf9Lg' -q --show-progress\n",
        "!wget -O features.zip 'https://docs.google.com/uc?export=download&id=1BawB1Zm43rmk7HMftFWnwizN-cyd7nnD' -q --show-progress \n",
        "!unzip features.zip \n",
        "!ls"
      ],
      "metadata": {
        "colab": {
          "base_uri": "https://localhost:8080/"
        },
        "id": "ehitg0QxR3yR",
        "outputId": "39e66b7d-2e8b-44b8-d762-ce0478ed76a0"
      },
      "execution_count": 6,
      "outputs": [
        {
          "output_type": "stream",
          "name": "stdout",
          "text": [
            "label_raw.csv       100%[===================>] 937.80K  --.-KB/s    in 0.05s   \n",
            "features.zip        100%[===================>]   2.03M  --.-KB/s    in 0.06s   \n",
            "Archive:  features.zip\n",
            "  inflating: features.xlsx           \n",
            "features.xlsx  features.zip  label_raw.csv  sample_data\n"
          ]
        }
      ]
    },
    {
      "cell_type": "markdown",
      "source": [
        "---\n",
        "## **Import** libraries\n",
        "---"
      ],
      "metadata": {
        "id": "mSyyIunlScLJ"
      }
    },
    {
      "cell_type": "code",
      "source": [
        "import pandas as pd\n",
        "import numpy as np\n",
        "import matplotlib.pyplot as plt\n",
        "import seaborn as sns\n",
        "from sklearn.preprocessing import MinMaxScaler\n",
        "%matplotlib inline \n",
        "\n",
        "from sklearn.metrics import accuracy_score, confusion_matrix, classification_report\n",
        "from sklearn.model_selection import cross_val_score\n",
        "\n",
        "from sklearn.model_selection import train_test_split\n",
        "from sklearn.ensemble import RandomForestClassifier\n",
        "from sklearn.tree import DecisionTreeClassifier\n",
        "from sklearn.neighbors import KNeighborsClassifier\n",
        "from sklearn.naive_bayes import GaussianNB\n",
        "from sklearn.svm import SVC\n",
        "from xgboost import XGBClassifier\n",
        "from sklearn.linear_model import LogisticRegression\n",
        "from sklearn.ensemble import VotingClassifier"
      ],
      "metadata": {
        "id": "KDrt3w6pTH1w"
      },
      "execution_count": 7,
      "outputs": []
    },
    {
      "cell_type": "markdown",
      "source": [
        "---\n",
        "# Reading the label data\n",
        "---"
      ],
      "metadata": {
        "id": "qg2kOd7GUJ2d"
      }
    },
    {
      "cell_type": "code",
      "source": [
        "# reading the label data\n",
        "df_lab = pd.read_csv('label_raw.csv')\n",
        "\n",
        "# checking the datatype of each column\n",
        "df_lab.info()"
      ],
      "metadata": {
        "colab": {
          "base_uri": "https://localhost:8080/"
        },
        "id": "-4IrEtMkUkQF",
        "outputId": "cd5b4d55-b703-4df7-8373-7984b0f61c9a"
      },
      "execution_count": 75,
      "outputs": [
        {
          "output_type": "stream",
          "name": "stdout",
          "text": [
            "<class 'pandas.core.frame.DataFrame'>\n",
            "RangeIndex: 13728 entries, 0 to 13727\n",
            "Data columns (total 8 columns):\n",
            " #   Column        Non-Null Count  Dtype  \n",
            "---  ------        --------------  -----  \n",
            " 0   Date          13728 non-null  object \n",
            " 1   Open          13728 non-null  float64\n",
            " 2   High          13728 non-null  float64\n",
            " 3   Low           13728 non-null  float64\n",
            " 4   Close         13728 non-null  float64\n",
            " 5   Volume        13728 non-null  int64  \n",
            " 6   Dividends     13728 non-null  float64\n",
            " 7   Stock Splits  13728 non-null  float64\n",
            "dtypes: float64(6), int64(1), object(1)\n",
            "memory usage: 858.1+ KB\n"
          ]
        }
      ]
    },
    {
      "cell_type": "code",
      "source": [
        "df_lab.head()"
      ],
      "metadata": {
        "colab": {
          "base_uri": "https://localhost:8080/",
          "height": 206
        },
        "id": "6zfgqPYJjLmZ",
        "outputId": "25517f1d-7752-40b3-933a-61bc89a83c3e"
      },
      "execution_count": 76,
      "outputs": [
        {
          "output_type": "execute_result",
          "data": {
            "text/html": [
              "\n",
              "  <div id=\"df-981e37bc-ffa3-4843-b9ac-a0c8451ac1ef\">\n",
              "    <div class=\"colab-df-container\">\n",
              "      <div>\n",
              "<style scoped>\n",
              "    .dataframe tbody tr th:only-of-type {\n",
              "        vertical-align: middle;\n",
              "    }\n",
              "\n",
              "    .dataframe tbody tr th {\n",
              "        vertical-align: top;\n",
              "    }\n",
              "\n",
              "    .dataframe thead th {\n",
              "        text-align: right;\n",
              "    }\n",
              "</style>\n",
              "<table border=\"1\" class=\"dataframe\">\n",
              "  <thead>\n",
              "    <tr style=\"text-align: right;\">\n",
              "      <th></th>\n",
              "      <th>Date</th>\n",
              "      <th>Open</th>\n",
              "      <th>High</th>\n",
              "      <th>Low</th>\n",
              "      <th>Close</th>\n",
              "      <th>Volume</th>\n",
              "      <th>Dividends</th>\n",
              "      <th>Stock Splits</th>\n",
              "    </tr>\n",
              "  </thead>\n",
              "  <tbody>\n",
              "    <tr>\n",
              "      <th>0</th>\n",
              "      <td>7/5/1966</td>\n",
              "      <td>0.0</td>\n",
              "      <td>0.004074</td>\n",
              "      <td>0.003982</td>\n",
              "      <td>0.004013</td>\n",
              "      <td>388800</td>\n",
              "      <td>0.0</td>\n",
              "      <td>0.0</td>\n",
              "    </tr>\n",
              "    <tr>\n",
              "      <th>1</th>\n",
              "      <td>7/6/1966</td>\n",
              "      <td>0.0</td>\n",
              "      <td>0.004227</td>\n",
              "      <td>0.003982</td>\n",
              "      <td>0.004227</td>\n",
              "      <td>687200</td>\n",
              "      <td>0.0</td>\n",
              "      <td>0.0</td>\n",
              "    </tr>\n",
              "    <tr>\n",
              "      <th>2</th>\n",
              "      <td>7/7/1966</td>\n",
              "      <td>0.0</td>\n",
              "      <td>0.004335</td>\n",
              "      <td>0.004044</td>\n",
              "      <td>0.004074</td>\n",
              "      <td>1853600</td>\n",
              "      <td>0.0</td>\n",
              "      <td>0.0</td>\n",
              "    </tr>\n",
              "    <tr>\n",
              "      <th>3</th>\n",
              "      <td>7/8/1966</td>\n",
              "      <td>0.0</td>\n",
              "      <td>0.004120</td>\n",
              "      <td>0.003982</td>\n",
              "      <td>0.004120</td>\n",
              "      <td>1238400</td>\n",
              "      <td>0.0</td>\n",
              "      <td>0.0</td>\n",
              "    </tr>\n",
              "    <tr>\n",
              "      <th>4</th>\n",
              "      <td>7/11/1966</td>\n",
              "      <td>0.0</td>\n",
              "      <td>0.004227</td>\n",
              "      <td>0.004059</td>\n",
              "      <td>0.004105</td>\n",
              "      <td>655200</td>\n",
              "      <td>0.0</td>\n",
              "      <td>0.0</td>\n",
              "    </tr>\n",
              "  </tbody>\n",
              "</table>\n",
              "</div>\n",
              "      <button class=\"colab-df-convert\" onclick=\"convertToInteractive('df-981e37bc-ffa3-4843-b9ac-a0c8451ac1ef')\"\n",
              "              title=\"Convert this dataframe to an interactive table.\"\n",
              "              style=\"display:none;\">\n",
              "        \n",
              "  <svg xmlns=\"http://www.w3.org/2000/svg\" height=\"24px\"viewBox=\"0 0 24 24\"\n",
              "       width=\"24px\">\n",
              "    <path d=\"M0 0h24v24H0V0z\" fill=\"none\"/>\n",
              "    <path d=\"M18.56 5.44l.94 2.06.94-2.06 2.06-.94-2.06-.94-.94-2.06-.94 2.06-2.06.94zm-11 1L8.5 8.5l.94-2.06 2.06-.94-2.06-.94L8.5 2.5l-.94 2.06-2.06.94zm10 10l.94 2.06.94-2.06 2.06-.94-2.06-.94-.94-2.06-.94 2.06-2.06.94z\"/><path d=\"M17.41 7.96l-1.37-1.37c-.4-.4-.92-.59-1.43-.59-.52 0-1.04.2-1.43.59L10.3 9.45l-7.72 7.72c-.78.78-.78 2.05 0 2.83L4 21.41c.39.39.9.59 1.41.59.51 0 1.02-.2 1.41-.59l7.78-7.78 2.81-2.81c.8-.78.8-2.07 0-2.86zM5.41 20L4 18.59l7.72-7.72 1.47 1.35L5.41 20z\"/>\n",
              "  </svg>\n",
              "      </button>\n",
              "      \n",
              "  <style>\n",
              "    .colab-df-container {\n",
              "      display:flex;\n",
              "      flex-wrap:wrap;\n",
              "      gap: 12px;\n",
              "    }\n",
              "\n",
              "    .colab-df-convert {\n",
              "      background-color: #E8F0FE;\n",
              "      border: none;\n",
              "      border-radius: 50%;\n",
              "      cursor: pointer;\n",
              "      display: none;\n",
              "      fill: #1967D2;\n",
              "      height: 32px;\n",
              "      padding: 0 0 0 0;\n",
              "      width: 32px;\n",
              "    }\n",
              "\n",
              "    .colab-df-convert:hover {\n",
              "      background-color: #E2EBFA;\n",
              "      box-shadow: 0px 1px 2px rgba(60, 64, 67, 0.3), 0px 1px 3px 1px rgba(60, 64, 67, 0.15);\n",
              "      fill: #174EA6;\n",
              "    }\n",
              "\n",
              "    [theme=dark] .colab-df-convert {\n",
              "      background-color: #3B4455;\n",
              "      fill: #D2E3FC;\n",
              "    }\n",
              "\n",
              "    [theme=dark] .colab-df-convert:hover {\n",
              "      background-color: #434B5C;\n",
              "      box-shadow: 0px 1px 3px 1px rgba(0, 0, 0, 0.15);\n",
              "      filter: drop-shadow(0px 1px 2px rgba(0, 0, 0, 0.3));\n",
              "      fill: #FFFFFF;\n",
              "    }\n",
              "  </style>\n",
              "\n",
              "      <script>\n",
              "        const buttonEl =\n",
              "          document.querySelector('#df-981e37bc-ffa3-4843-b9ac-a0c8451ac1ef button.colab-df-convert');\n",
              "        buttonEl.style.display =\n",
              "          google.colab.kernel.accessAllowed ? 'block' : 'none';\n",
              "\n",
              "        async function convertToInteractive(key) {\n",
              "          const element = document.querySelector('#df-981e37bc-ffa3-4843-b9ac-a0c8451ac1ef');\n",
              "          const dataTable =\n",
              "            await google.colab.kernel.invokeFunction('convertToInteractive',\n",
              "                                                     [key], {});\n",
              "          if (!dataTable) return;\n",
              "\n",
              "          const docLinkHtml = 'Like what you see? Visit the ' +\n",
              "            '<a target=\"_blank\" href=https://colab.research.google.com/notebooks/data_table.ipynb>data table notebook</a>'\n",
              "            + ' to learn more about interactive tables.';\n",
              "          element.innerHTML = '';\n",
              "          dataTable['output_type'] = 'display_data';\n",
              "          await google.colab.output.renderOutput(dataTable, element);\n",
              "          const docLink = document.createElement('div');\n",
              "          docLink.innerHTML = docLinkHtml;\n",
              "          element.appendChild(docLink);\n",
              "        }\n",
              "      </script>\n",
              "    </div>\n",
              "  </div>\n",
              "  "
            ],
            "text/plain": [
              "        Date  Open      High  ...   Volume  Dividends  Stock Splits\n",
              "0   7/5/1966   0.0  0.004074  ...   388800        0.0           0.0\n",
              "1   7/6/1966   0.0  0.004227  ...   687200        0.0           0.0\n",
              "2   7/7/1966   0.0  0.004335  ...  1853600        0.0           0.0\n",
              "3   7/8/1966   0.0  0.004120  ...  1238400        0.0           0.0\n",
              "4  7/11/1966   0.0  0.004227  ...   655200        0.0           0.0\n",
              "\n",
              "[5 rows x 8 columns]"
            ]
          },
          "metadata": {},
          "execution_count": 76
        }
      ]
    },
    {
      "cell_type": "markdown",
      "source": [
        "From the above output, it can be seen that the **'Date'** column is a **string type**. It has to be converted into **datetime object**."
      ],
      "metadata": {
        "id": "lSrqDSkCgip1"
      }
    },
    {
      "cell_type": "code",
      "source": [
        "def to_datetime():\n",
        "  # convert the string date to datetime format\n",
        "  df_lab['Date'] = pd.to_datetime(df_lab['Date'])\n",
        "\n",
        "  # get the names of the week days\n",
        "  df_lab['weekday_name'] = df_lab['Date'].dt.day_name()\n",
        "\n",
        "  # filtering on working days \n",
        "  df_lab_wd = df_lab[(df_lab['weekday_name']!='Saturday') | (df_lab['weekday_name']!='Sunday')]\n",
        "\n",
        "  # As the sale is made on weekdays \n",
        "  return df_lab_wd\n",
        "\n",
        "# let's give the same name for the data obtained from the function as it was named before\n",
        "\n",
        "df_lab = to_datetime()\n",
        "df_lab.shape"
      ],
      "metadata": {
        "colab": {
          "base_uri": "https://localhost:8080/"
        },
        "id": "mIdHi-5RaAUU",
        "outputId": "2650b901-1cfc-4d77-ea38-ab56e0166203"
      },
      "execution_count": 77,
      "outputs": [
        {
          "output_type": "execute_result",
          "data": {
            "text/plain": [
              "(13728, 9)"
            ]
          },
          "metadata": {},
          "execution_count": 77
        }
      ]
    },
    {
      "cell_type": "markdown",
      "source": [
        "# **Visualize** the missing values in each column for the sake of **data qualitiy management**"
      ],
      "metadata": {
        "id": "VnpfnN2dcsDz"
      }
    },
    {
      "cell_type": "code",
      "source": [
        "def missing_heatmap():\n",
        "  # heatmap plot to see the position/location of missing values (if any)\n",
        "  sns.heatmap(df_lab.isnull(), cbar=False)\n",
        "\n",
        "  # print the proportion of missing values in each column\n",
        "  print(df_lab.isnull().mean())\n",
        "missing_heatmap()"
      ],
      "metadata": {
        "colab": {
          "base_uri": "https://localhost:8080/",
          "height": 511
        },
        "id": "UiJUaRchjCOA",
        "outputId": "15afd4c8-f091-46f0-cd5d-406085efed52"
      },
      "execution_count": 78,
      "outputs": [
        {
          "output_type": "stream",
          "name": "stdout",
          "text": [
            "Date            0.0\n",
            "Open            0.0\n",
            "High            0.0\n",
            "Low             0.0\n",
            "Close           0.0\n",
            "Volume          0.0\n",
            "Dividends       0.0\n",
            "Stock Splits    0.0\n",
            "weekday_name    0.0\n",
            "dtype: float64\n"
          ]
        },
        {
          "output_type": "display_data",
          "data": {
            "image/png": "[encoded data removed]",
            "text/plain": [
              "<Figure size 432x288 with 1 Axes>"
            ]
          },
          "metadata": {
            "needs_background": "light"
          }
        }
      ]
    },
    {
      "cell_type": "markdown",
      "source": [
        "As per the results above, the label data is _**clean in terms of missing values**_. "
      ],
      "metadata": {
        "id": "ZBV2iBRPv2pK"
      }
    },
    {
      "cell_type": "markdown",
      "source": [
        "# **Dichotomize the investiment as positive and negative**\n",
        "---\n",
        "**Positive** if $profit$ reads at **least 10% with in 10 working days** following a purchase day, **negative** otherwise.\n",
        "\n",
        "Take the maximum of the lowest selling prices in the 10 working days immediate to purchase day: \n",
        "\n",
        "<center> $sell = \\max{\\{sell_{t+1}, ..., sell_{t+10}\\}}$ <center/> \n",
        "\n",
        "<justify> where $t$ is the purchase day. <justify/>\n",
        "\n",
        "then calculate the profit percentage as:\n",
        "\n",
        "<center> $profit = \\frac{sell - purchase_t}{purchase_t}\\times 100$ <center/>\n"
      ],
      "metadata": {
        "id": "KtDyeBSPlmO3"
      }
    },
    {
      "cell_type": "code",
      "source": [
        "def calc_profit():\n",
        "  d = 10\n",
        "  df_lab['profit'] = ((pd.Series(df_lab['Low']).rolling(d)).max().shift(-d) - pd.Series(df_lab['High']))/pd.Series(df_lab['High'])\n",
        "  df_lab_pro = df_lab.dropna()\n",
        "  return df_lab_pro\n",
        "df_lab = calc_profit()\n",
        "df_lab.head()\n"
      ],
      "metadata": {
        "colab": {
          "base_uri": "https://localhost:8080/",
          "height": 206
        },
        "id": "fvwP7INVuOuU",
        "outputId": "4d9a4c0a-4334-4db8-c2d2-518d5cd66157"
      },
      "execution_count": 79,
      "outputs": [
        {
          "output_type": "execute_result",
          "data": {
            "text/html": [
              "\n",
              "  <div id=\"df-6468163f-f071-4449-b920-951a6ff6c337\">\n",
              "    <div class=\"colab-df-container\">\n",
              "      <div>\n",
              "<style scoped>\n",
              "    .dataframe tbody tr th:only-of-type {\n",
              "        vertical-align: middle;\n",
              "    }\n",
              "\n",
              "    .dataframe tbody tr th {\n",
              "        vertical-align: top;\n",
              "    }\n",
              "\n",
              "    .dataframe thead th {\n",
              "        text-align: right;\n",
              "    }\n",
              "</style>\n",
              "<table border=\"1\" class=\"dataframe\">\n",
              "  <thead>\n",
              "    <tr style=\"text-align: right;\">\n",
              "      <th></th>\n",
              "      <th>Date</th>\n",
              "      <th>Open</th>\n",
              "      <th>High</th>\n",
              "      <th>Low</th>\n",
              "      <th>Close</th>\n",
              "      <th>Volume</th>\n",
              "      <th>Dividends</th>\n",
              "      <th>Stock Splits</th>\n",
              "      <th>weekday_name</th>\n",
              "      <th>profit</th>\n",
              "    </tr>\n",
              "  </thead>\n",
              "  <tbody>\n",
              "    <tr>\n",
              "      <th>0</th>\n",
              "      <td>1966-07-05</td>\n",
              "      <td>0.0</td>\n",
              "      <td>0.004074</td>\n",
              "      <td>0.003982</td>\n",
              "      <td>0.004013</td>\n",
              "      <td>388800</td>\n",
              "      <td>0.0</td>\n",
              "      <td>0.0</td>\n",
              "      <td>Tuesday</td>\n",
              "      <td>-0.003759</td>\n",
              "    </tr>\n",
              "    <tr>\n",
              "      <th>1</th>\n",
              "      <td>1966-07-06</td>\n",
              "      <td>0.0</td>\n",
              "      <td>0.004227</td>\n",
              "      <td>0.003982</td>\n",
              "      <td>0.004227</td>\n",
              "      <td>687200</td>\n",
              "      <td>0.0</td>\n",
              "      <td>0.0</td>\n",
              "      <td>Wednesday</td>\n",
              "      <td>-0.039855</td>\n",
              "    </tr>\n",
              "    <tr>\n",
              "      <th>2</th>\n",
              "      <td>1966-07-07</td>\n",
              "      <td>0.0</td>\n",
              "      <td>0.004335</td>\n",
              "      <td>0.004044</td>\n",
              "      <td>0.004074</td>\n",
              "      <td>1853600</td>\n",
              "      <td>0.0</td>\n",
              "      <td>0.0</td>\n",
              "      <td>Thursday</td>\n",
              "      <td>-0.063604</td>\n",
              "    </tr>\n",
              "    <tr>\n",
              "      <th>3</th>\n",
              "      <td>1966-07-08</td>\n",
              "      <td>0.0</td>\n",
              "      <td>0.004120</td>\n",
              "      <td>0.003982</td>\n",
              "      <td>0.004120</td>\n",
              "      <td>1238400</td>\n",
              "      <td>0.0</td>\n",
              "      <td>0.0</td>\n",
              "      <td>Friday</td>\n",
              "      <td>-0.014870</td>\n",
              "    </tr>\n",
              "    <tr>\n",
              "      <th>4</th>\n",
              "      <td>1966-07-11</td>\n",
              "      <td>0.0</td>\n",
              "      <td>0.004227</td>\n",
              "      <td>0.004059</td>\n",
              "      <td>0.004105</td>\n",
              "      <td>655200</td>\n",
              "      <td>0.0</td>\n",
              "      <td>0.0</td>\n",
              "      <td>Monday</td>\n",
              "      <td>-0.047101</td>\n",
              "    </tr>\n",
              "  </tbody>\n",
              "</table>\n",
              "</div>\n",
              "      <button class=\"colab-df-convert\" onclick=\"convertToInteractive('df-6468163f-f071-4449-b920-951a6ff6c337')\"\n",
              "              title=\"Convert this dataframe to an interactive table.\"\n",
              "              style=\"display:none;\">\n",
              "        \n",
              "  <svg xmlns=\"http://www.w3.org/2000/svg\" height=\"24px\"viewBox=\"0 0 24 24\"\n",
              "       width=\"24px\">\n",
              "    <path d=\"M0 0h24v24H0V0z\" fill=\"none\"/>\n",
              "    <path d=\"M18.56 5.44l.94 2.06.94-2.06 2.06-.94-2.06-.94-.94-2.06-.94 2.06-2.06.94zm-11 1L8.5 8.5l.94-2.06 2.06-.94-2.06-.94L8.5 2.5l-.94 2.06-2.06.94zm10 10l.94 2.06.94-2.06 2.06-.94-2.06-.94-.94-2.06-.94 2.06-2.06.94z\"/><path d=\"M17.41 7.96l-1.37-1.37c-.4-.4-.92-.59-1.43-.59-.52 0-1.04.2-1.43.59L10.3 9.45l-7.72 7.72c-.78.78-.78 2.05 0 2.83L4 21.41c.39.39.9.59 1.41.59.51 0 1.02-.2 1.41-.59l7.78-7.78 2.81-2.81c.8-.78.8-2.07 0-2.86zM5.41 20L4 18.59l7.72-7.72 1.47 1.35L5.41 20z\"/>\n",
              "  </svg>\n",
              "      </button>\n",
              "      \n",
              "  <style>\n",
              "    .colab-df-container {\n",
              "      display:flex;\n",
              "      flex-wrap:wrap;\n",
              "      gap: 12px;\n",
              "    }\n",
              "\n",
              "    .colab-df-convert {\n",
              "      background-color: #E8F0FE;\n",
              "      border: none;\n",
              "      border-radius: 50%;\n",
              "      cursor: pointer;\n",
              "      display: none;\n",
              "      fill: #1967D2;\n",
              "      height: 32px;\n",
              "      padding: 0 0 0 0;\n",
              "      width: 32px;\n",
              "    }\n",
              "\n",
              "    .colab-df-convert:hover {\n",
              "      background-color: #E2EBFA;\n",
              "      box-shadow: 0px 1px 2px rgba(60, 64, 67, 0.3), 0px 1px 3px 1px rgba(60, 64, 67, 0.15);\n",
              "      fill: #174EA6;\n",
              "    }\n",
              "\n",
              "    [theme=dark] .colab-df-convert {\n",
              "      background-color: #3B4455;\n",
              "      fill: #D2E3FC;\n",
              "    }\n",
              "\n",
              "    [theme=dark] .colab-df-convert:hover {\n",
              "      background-color: #434B5C;\n",
              "      box-shadow: 0px 1px 3px 1px rgba(0, 0, 0, 0.15);\n",
              "      filter: drop-shadow(0px 1px 2px rgba(0, 0, 0, 0.3));\n",
              "      fill: #FFFFFF;\n",
              "    }\n",
              "  </style>\n",
              "\n",
              "      <script>\n",
              "        const buttonEl =\n",
              "          document.querySelector('#df-6468163f-f071-4449-b920-951a6ff6c337 button.colab-df-convert');\n",
              "        buttonEl.style.display =\n",
              "          google.colab.kernel.accessAllowed ? 'block' : 'none';\n",
              "\n",
              "        async function convertToInteractive(key) {\n",
              "          const element = document.querySelector('#df-6468163f-f071-4449-b920-951a6ff6c337');\n",
              "          const dataTable =\n",
              "            await google.colab.kernel.invokeFunction('convertToInteractive',\n",
              "                                                     [key], {});\n",
              "          if (!dataTable) return;\n",
              "\n",
              "          const docLinkHtml = 'Like what you see? Visit the ' +\n",
              "            '<a target=\"_blank\" href=https://colab.research.google.com/notebooks/data_table.ipynb>data table notebook</a>'\n",
              "            + ' to learn more about interactive tables.';\n",
              "          element.innerHTML = '';\n",
              "          dataTable['output_type'] = 'display_data';\n",
              "          await google.colab.output.renderOutput(dataTable, element);\n",
              "          const docLink = document.createElement('div');\n",
              "          docLink.innerHTML = docLinkHtml;\n",
              "          element.appendChild(docLink);\n",
              "        }\n",
              "      </script>\n",
              "    </div>\n",
              "  </div>\n",
              "  "
            ],
            "text/plain": [
              "        Date  Open      High  ...  Stock Splits  weekday_name    profit\n",
              "0 1966-07-05   0.0  0.004074  ...           0.0       Tuesday -0.003759\n",
              "1 1966-07-06   0.0  0.004227  ...           0.0     Wednesday -0.039855\n",
              "2 1966-07-07   0.0  0.004335  ...           0.0      Thursday -0.063604\n",
              "3 1966-07-08   0.0  0.004120  ...           0.0        Friday -0.014870\n",
              "4 1966-07-11   0.0  0.004227  ...           0.0        Monday -0.047101\n",
              "\n",
              "[5 rows x 10 columns]"
            ]
          },
          "metadata": {},
          "execution_count": 79
        }
      ]
    },
    {
      "cell_type": "code",
      "source": [
        "# Labeling the investment based on the minimum of 10% profit\n",
        "def investment_label(gain):\n",
        "  if gain >= 0.1:\n",
        "    return 'positive'\n",
        "  else:\n",
        "    return 'negative'\n",
        "df_lab['label'] = df_lab['profit'].map(investment_label)\n"
      ],
      "metadata": {
        "id": "nwEJfeocu0VP"
      },
      "execution_count": 80,
      "outputs": []
    },
    {
      "cell_type": "code",
      "source": [
        "# Distribution of the positive and negative investments \n",
        "def label_dist():\n",
        "\n",
        "\tdf_perc = pd.DataFrame(df_lab.groupby('label')['label'].count() * 100/(df_lab.groupby('label')['label'].count().sum()))\\\n",
        "    \t.rename(columns={'label':'animal_percent'}).reset_index()\n",
        "\n",
        "\n",
        "\texplode = (0, 0.4)  \n",
        "\n",
        "\tfig1, ax1 = plt.subplots()\n",
        "\tax1.pie(df_perc['animal_percent'], explode=explode,\n",
        "\t \tlabels=df_perc['label'], autopct='%1.2f%%',\n",
        "        \tshadow=True, startangle=200)\n",
        "\tax1.axis('equal')\n",
        " \n",
        "if __name__ == \"__main__\":\n",
        "  label_dist()\n"
      ],
      "metadata": {
        "colab": {
          "base_uri": "https://localhost:8080/",
          "height": 248
        },
        "id": "3ubdiETeEE4a",
        "outputId": "a5bf3f31-1139-4f4b-f67a-664666c27e34"
      },
      "execution_count": 81,
      "outputs": [
        {
          "output_type": "display_data",
          "data": {
            "image/png": "[encoded data removed]",
            "text/plain": [
              "<Figure size 432x288 with 1 Axes>"
            ]
          },
          "metadata": {}
        }
      ]
    },
    {
      "cell_type": "markdown",
      "source": [
        "# Reading features data"
      ],
      "metadata": {
        "id": "SAT-ul8Fom1q"
      }
    },
    {
      "cell_type": "code",
      "source": [
        "df_feat = pd.ExcelFile('features.xlsx')\n",
        "df_feat.sheet_names\n",
        "\n",
        "# Reading the data in each sheets\n",
        "df_featA = pd.read_excel('features.xlsx', sheet_name=None)"
      ],
      "metadata": {
        "id": "3W9lCjIET-Xe"
      },
      "execution_count": 82,
      "outputs": []
    },
    {
      "cell_type": "code",
      "source": [
        "df_gdp = df_featA[df_feat.sheet_names[3]]"
      ],
      "metadata": {
        "id": "VXl-gq4lo0uA"
      },
      "execution_count": 83,
      "outputs": []
    },
    {
      "cell_type": "code",
      "source": [
        "df_gdp.rec_vld_dts.unique()"
      ],
      "metadata": {
        "colab": {
          "base_uri": "https://localhost:8080/"
        },
        "id": "9W4RydOipE8Z",
        "outputId": "6a25b6fb-254e-418f-ca61-a26f031d081d"
      },
      "execution_count": 84,
      "outputs": [
        {
          "output_type": "execute_result",
          "data": {
            "text/plain": [
              "array(['2007-12-31T00:00:00.000000000', '1994-03-31T00:00:00.000000000',\n",
              "       '1997-06-30T00:00:00.000000000', '1992-11-30T00:00:00.000000000',\n",
              "       '2007-05-31T00:00:00.000000000', '1995-07-31T00:00:00.000000000',\n",
              "       '1992-04-30T00:00:00.000000000', '2001-06-30T00:00:00.000000000',\n",
              "       '2008-09-30T00:00:00.000000000', '1993-08-31T00:00:00.000000000',\n",
              "       '2002-03-31T00:00:00.000000000', '1994-12-31T00:00:00.000000000',\n",
              "       '2000-11-30T00:00:00.000000000', '1993-01-31T00:00:00.000000000',\n",
              "       '1994-05-31T00:00:00.000000000', '2008-02-29T00:00:00.000000000',\n",
              "       '2001-08-31T00:00:00.000000000', '1995-09-30T00:00:00.000000000',\n",
              "       '1997-08-31T00:00:00.000000000', '2007-07-31T00:00:00.000000000',\n",
              "       '1992-06-30T00:00:00.000000000', '1995-02-28T00:00:00.000000000',\n",
              "       '2001-01-31T00:00:00.000000000', '1993-10-31T00:00:00.000000000',\n",
              "       '2002-05-31T00:00:00.000000000', '1993-03-31T00:00:00.000000000',\n",
              "       '2006-12-31T00:00:00.000000000', '2001-10-31T00:00:00.000000000',\n",
              "       '1994-07-31T00:00:00.000000000', '2008-04-30T00:00:00.000000000',\n",
              "       '2007-09-30T00:00:00.000000000', '1992-08-31T00:00:00.000000000',\n",
              "       '1993-12-31T00:00:00.000000000', '1992-01-31T00:00:00.000000000',\n",
              "       '1995-04-30T00:00:00.000000000', '2001-03-31T00:00:00.000000000',\n",
              "       '1994-09-30T00:00:00.000000000', '1993-05-31T00:00:00.000000000',\n",
              "       '2007-02-28T00:00:00.000000000', '2001-12-31T00:00:00.000000000',\n",
              "       '2008-06-30T00:00:00.000000000', '2000-08-31T00:00:00.000000000',\n",
              "       '2007-11-30T00:00:00.000000000', '1992-10-31T00:00:00.000000000',\n",
              "       '1994-02-28T00:00:00.000000000', '1995-06-30T00:00:00.000000000',\n",
              "       '1992-03-31T00:00:00.000000000', '2001-05-31T00:00:00.000000000',\n",
              "       '1993-07-31T00:00:00.000000000', '2007-04-30T00:00:00.000000000',\n",
              "       '2002-02-28T00:00:00.000000000', '1994-11-30T00:00:00.000000000',\n",
              "       '2000-10-31T00:00:00.000000000', '2008-08-31T00:00:00.000000000',\n",
              "       '2008-01-31T00:00:00.000000000', '1992-12-31T00:00:00.000000000',\n",
              "       '1994-04-30T00:00:00.000000000', '1997-07-31T00:00:00.000000000',\n",
              "       '2007-06-30T00:00:00.000000000', '1992-05-31T00:00:00.000000000',\n",
              "       '1995-08-31T00:00:00.000000000', '2001-07-31T00:00:00.000000000',\n",
              "       '1995-01-31T00:00:00.000000000', '2000-12-31T00:00:00.000000000',\n",
              "       '2008-10-31T00:00:00.000000000', '1993-09-30T00:00:00.000000000',\n",
              "       '2002-04-30T00:00:00.000000000', '1993-02-28T00:00:00.000000000',\n",
              "       '2001-09-30T00:00:00.000000000', '1994-06-30T00:00:00.000000000',\n",
              "       '2008-03-31T00:00:00.000000000', '1997-09-30T00:00:00.000000000',\n",
              "       '1995-10-31T00:00:00.000000000', '2007-08-31T00:00:00.000000000',\n",
              "       '1992-07-31T00:00:00.000000000', '1995-03-31T00:00:00.000000000',\n",
              "       '2001-02-28T00:00:00.000000000', '2002-06-30T00:00:00.000000000',\n",
              "       '1993-11-30T00:00:00.000000000', '1993-04-30T00:00:00.000000000',\n",
              "       '2007-01-31T00:00:00.000000000', '1994-08-31T00:00:00.000000000',\n",
              "       '2001-11-30T00:00:00.000000000', '2008-05-31T00:00:00.000000000',\n",
              "       '2007-10-31T00:00:00.000000000', '1992-09-30T00:00:00.000000000',\n",
              "       '1994-01-31T00:00:00.000000000', '1992-02-29T00:00:00.000000000',\n",
              "       '1995-05-31T00:00:00.000000000', '2001-04-30T00:00:00.000000000',\n",
              "       '1994-10-31T00:00:00.000000000', '1993-06-30T00:00:00.000000000',\n",
              "       '2007-03-31T00:00:00.000000000', '2002-01-31T00:00:00.000000000',\n",
              "       '2000-09-30T00:00:00.000000000', '2008-07-31T00:00:00.000000000',\n",
              "       '2005-04-30T00:00:00.000000000', '2015-10-31T00:00:00.000000000',\n",
              "       '2006-08-31T00:00:00.000000000', '2004-09-30T00:00:00.000000000',\n",
              "       '2006-01-31T00:00:00.000000000', '2015-03-31T00:00:00.000000000',\n",
              "       '2005-06-30T00:00:00.000000000', '1996-11-30T00:00:00.000000000',\n",
              "       '2010-08-31T00:00:00.000000000', '2011-12-31T00:00:00.000000000',\n",
              "       '1996-04-30T00:00:00.000000000', '1999-07-31T00:00:00.000000000',\n",
              "       '2006-10-31T00:00:00.000000000', '2006-03-31T00:00:00.000000000',\n",
              "       '2004-11-30T00:00:00.000000000', '2010-10-31T00:00:00.000000000',\n",
              "       '1997-01-31T00:00:00.000000000', '2015-05-31T00:00:00.000000000',\n",
              "       '2012-02-29T00:00:00.000000000', '1996-06-30T00:00:00.000000000',\n",
              "       '2005-08-31T00:00:00.000000000', '2008-11-30T00:00:00.000000000',\n",
              "       '1995-11-30T00:00:00.000000000', '2005-01-31T00:00:00.000000000',\n",
              "       '2006-05-31T00:00:00.000000000', '1997-03-31T00:00:00.000000000',\n",
              "       '2015-07-31T00:00:00.000000000', '2010-12-31T00:00:00.000000000',\n",
              "       '2004-06-30T00:00:00.000000000', '2005-10-31T00:00:00.000000000',\n",
              "       '2012-04-30T00:00:00.000000000', '1996-08-31T00:00:00.000000000',\n",
              "       '2009-01-31T00:00:00.000000000', '1996-01-31T00:00:00.000000000',\n",
              "       '2002-07-31T00:00:00.000000000', '2005-03-31T00:00:00.000000000',\n",
              "       '2006-07-31T00:00:00.000000000', '1997-05-31T00:00:00.000000000',\n",
              "       '2004-08-31T00:00:00.000000000', '2015-09-30T00:00:00.000000000',\n",
              "       '2005-12-31T00:00:00.000000000', '2011-02-28T00:00:00.000000000',\n",
              "       '2012-06-30T00:00:00.000000000', '1996-10-31T00:00:00.000000000',\n",
              "       '2015-02-28T00:00:00.000000000', '2010-07-31T00:00:00.000000000',\n",
              "       '2009-03-31T00:00:00.000000000', '2002-09-30T00:00:00.000000000',\n",
              "       '1996-03-31T00:00:00.000000000', '1999-06-30T00:00:00.000000000',\n",
              "       '2005-05-31T00:00:00.000000000', '2006-09-30T00:00:00.000000000',\n",
              "       '2004-10-31T00:00:00.000000000', '2015-11-30T00:00:00.000000000',\n",
              "       '2006-02-28T00:00:00.000000000', '2015-04-30T00:00:00.000000000',\n",
              "       '2005-07-31T00:00:00.000000000', '2010-09-30T00:00:00.000000000',\n",
              "       '1996-12-31T00:00:00.000000000', '2012-01-31T00:00:00.000000000',\n",
              "       '1996-05-31T00:00:00.000000000', '1999-08-31T00:00:00.000000000',\n",
              "       '2006-11-30T00:00:00.000000000', '2004-12-31T00:00:00.000000000',\n",
              "       '2006-04-30T00:00:00.000000000', '2010-11-30T00:00:00.000000000',\n",
              "       '1997-02-28T00:00:00.000000000', '2015-06-30T00:00:00.000000000',\n",
              "       '2012-03-31T00:00:00.000000000', '1996-07-31T00:00:00.000000000',\n",
              "       '2005-09-30T00:00:00.000000000', '2008-12-31T00:00:00.000000000',\n",
              "       '1995-12-31T00:00:00.000000000', '2005-02-28T00:00:00.000000000',\n",
              "       '2006-06-30T00:00:00.000000000', '1997-04-30T00:00:00.000000000',\n",
              "       '2011-01-31T00:00:00.000000000', '2004-07-31T00:00:00.000000000',\n",
              "       '2015-08-31T00:00:00.000000000', '2005-11-30T00:00:00.000000000',\n",
              "       '2012-05-31T00:00:00.000000000', '1996-09-30T00:00:00.000000000',\n",
              "       '2009-02-28T00:00:00.000000000', '1996-02-29T00:00:00.000000000',\n",
              "       '2002-08-31T00:00:00.000000000', '2009-04-30T00:00:00.000000000',\n",
              "       '1998-10-31T00:00:00.000000000', '1998-03-31T00:00:00.000000000',\n",
              "       '2012-07-31T00:00:00.000000000', '2010-01-31T00:00:00.000000000',\n",
              "       '2019-10-31T00:00:00.000000000', '2013-04-30T00:00:00.000000000',\n",
              "       '2016-07-31T00:00:00.000000000', '2011-05-31T00:00:00.000000000',\n",
              "       '2009-06-30T00:00:00.000000000', '1998-12-31T00:00:00.000000000',\n",
              "       '2000-04-30T00:00:00.000000000', '1998-05-31T00:00:00.000000000',\n",
              "       '2015-12-31T00:00:00.000000000', '2012-09-30T00:00:00.000000000',\n",
              "       '2010-03-31T00:00:00.000000000', '2011-07-31T00:00:00.000000000',\n",
              "       '2013-06-30T00:00:00.000000000', '1997-10-31T00:00:00.000000000',\n",
              "       '2009-08-31T00:00:00.000000000', '1999-02-28T00:00:00.000000000',\n",
              "       '2000-06-30T00:00:00.000000000', '2016-02-29T00:00:00.000000000',\n",
              "       '1998-07-31T00:00:00.000000000', '2010-05-31T00:00:00.000000000',\n",
              "       '2011-09-30T00:00:00.000000000', '1997-12-31T00:00:00.000000000',\n",
              "       '2009-10-31T00:00:00.000000000', '1999-04-30T00:00:00.000000000',\n",
              "       '2016-04-30T00:00:00.000000000', '1998-09-30T00:00:00.000000000',\n",
              "       '1998-02-28T00:00:00.000000000', '2013-03-31T00:00:00.000000000',\n",
              "       '2011-11-30T00:00:00.000000000', '2009-12-31T00:00:00.000000000',\n",
              "       '2011-04-30T00:00:00.000000000', '2016-06-30T00:00:00.000000000',\n",
              "       '2009-05-31T00:00:00.000000000', '1998-11-30T00:00:00.000000000',\n",
              "       '1998-04-30T00:00:00.000000000', '2012-08-31T00:00:00.000000000',\n",
              "       '2010-02-28T00:00:00.000000000', '2013-05-31T00:00:00.000000000',\n",
              "       '2019-11-30T00:00:00.000000000', '2011-06-30T00:00:00.000000000',\n",
              "       '2016-08-31T00:00:00.000000000', '2009-07-31T00:00:00.000000000',\n",
              "       '1999-01-31T00:00:00.000000000', '2000-05-31T00:00:00.000000000',\n",
              "       '1998-06-30T00:00:00.000000000', '2016-01-31T00:00:00.000000000',\n",
              "       '2012-10-31T00:00:00.000000000', '2010-04-30T00:00:00.000000000',\n",
              "       '2013-07-31T00:00:00.000000000', '2011-08-31T00:00:00.000000000',\n",
              "       '1997-11-30T00:00:00.000000000', '2009-09-30T00:00:00.000000000',\n",
              "       '1999-03-31T00:00:00.000000000', '2000-07-31T00:00:00.000000000',\n",
              "       '2016-03-31T00:00:00.000000000', '1998-08-31T00:00:00.000000000',\n",
              "       '2010-06-30T00:00:00.000000000', '1998-01-31T00:00:00.000000000',\n",
              "       '2011-10-31T00:00:00.000000000', '2009-11-30T00:00:00.000000000',\n",
              "       '1999-05-31T00:00:00.000000000', '2016-05-31T00:00:00.000000000',\n",
              "       '2003-05-31T00:00:00.000000000', '2000-02-29T00:00:00.000000000',\n",
              "       '2017-02-28T00:00:00.000000000', '2011-03-31T00:00:00.000000000',\n",
              "       '2004-02-29T00:00:00.000000000', '2018-06-30T00:00:00.000000000',\n",
              "       '2002-10-31T00:00:00.000000000', '2017-11-30T00:00:00.000000000',\n",
              "       '2019-03-31T00:00:00.000000000', '2017-04-30T00:00:00.000000000',\n",
              "       '2014-08-31T00:00:00.000000000', '2004-04-30T00:00:00.000000000',\n",
              "       '1999-09-30T00:00:00.000000000', '2019-12-31T00:00:00.000000000',\n",
              "       '2002-12-31T00:00:00.000000000', '2018-08-31T00:00:00.000000000',\n",
              "       '2019-05-31T00:00:00.000000000', '2018-01-31T00:00:00.000000000',\n",
              "       '2016-09-30T00:00:00.000000000', '2014-10-31T00:00:00.000000000',\n",
              "       '2017-06-30T00:00:00.000000000', '2003-02-28T00:00:00.000000000',\n",
              "       '2018-10-31T00:00:00.000000000', '1999-11-30T00:00:00.000000000',\n",
              "       '2020-02-29T00:00:00.000000000', '2018-03-31T00:00:00.000000000',\n",
              "       '2016-11-30T00:00:00.000000000', '2019-07-31T00:00:00.000000000',\n",
              "       '2013-08-31T00:00:00.000000000', '2000-01-31T00:00:00.000000000',\n",
              "       '2020-04-30T00:00:00.000000000', '2003-04-30T00:00:00.000000000',\n",
              "       '2017-01-31T00:00:00.000000000', '2018-05-31T00:00:00.000000000',\n",
              "       '2019-09-30T00:00:00.000000000', '2013-10-31T00:00:00.000000000',\n",
              "       '2003-06-30T00:00:00.000000000', '2000-03-31T00:00:00.000000000',\n",
              "       '2017-03-31T00:00:00.000000000', '2004-03-31T00:00:00.000000000',\n",
              "       '2018-07-31T00:00:00.000000000', '2002-11-30T00:00:00.000000000',\n",
              "       '2017-12-31T00:00:00.000000000', '2019-04-30T00:00:00.000000000',\n",
              "       '2017-05-31T00:00:00.000000000', '2014-09-30T00:00:00.000000000',\n",
              "       '2004-05-31T00:00:00.000000000', '1999-10-31T00:00:00.000000000',\n",
              "       '2018-09-30T00:00:00.000000000', '2020-01-31T00:00:00.000000000',\n",
              "       '2003-01-31T00:00:00.000000000', '2019-06-30T00:00:00.000000000',\n",
              "       '2016-10-31T00:00:00.000000000', '2018-02-28T00:00:00.000000000',\n",
              "       '2014-11-30T00:00:00.000000000', '2017-07-31T00:00:00.000000000',\n",
              "       '2003-03-31T00:00:00.000000000', '1999-12-31T00:00:00.000000000',\n",
              "       '2018-11-30T00:00:00.000000000', '2020-03-31T00:00:00.000000000',\n",
              "       '2018-04-30T00:00:00.000000000', '2016-12-31T00:00:00.000000000',\n",
              "       '2013-09-30T00:00:00.000000000', '2019-08-31T00:00:00.000000000',\n",
              "       '2014-06-30T00:00:00.000000000', '2020-05-31T00:00:00.000000000',\n",
              "       '2003-07-31T00:00:00.000000000', '2020-07-31T00:00:00.000000000',\n",
              "       '2003-09-30T00:00:00.000000000', '2014-03-31T00:00:00.000000000',\n",
              "       '2012-11-30T00:00:00.000000000', '2003-11-30T00:00:00.000000000',\n",
              "       '2018-12-31T00:00:00.000000000', '2017-08-31T00:00:00.000000000',\n",
              "       '2014-05-31T00:00:00.000000000', '2013-01-31T00:00:00.000000000',\n",
              "       '2004-01-31T00:00:00.000000000', '2019-02-28T00:00:00.000000000',\n",
              "       '2017-10-31T00:00:00.000000000', '2014-07-31T00:00:00.000000000',\n",
              "       '2020-06-30T00:00:00.000000000', '2003-08-31T00:00:00.000000000',\n",
              "       '2020-08-31T00:00:00.000000000', '2003-10-31T00:00:00.000000000',\n",
              "       '2014-04-30T00:00:00.000000000', '2012-12-31T00:00:00.000000000',\n",
              "       '2003-12-31T00:00:00.000000000', '2015-01-31T00:00:00.000000000',\n",
              "       '2017-09-30T00:00:00.000000000', '2019-01-31T00:00:00.000000000',\n",
              "       '2013-02-28T00:00:00.000000000', '2013-11-30T00:00:00.000000000',\n",
              "       '2014-01-31T00:00:00.000000000', '2014-12-31T00:00:00.000000000',\n",
              "       '2013-12-31T00:00:00.000000000', '2014-02-28T00:00:00.000000000',\n",
              "       '2020-09-30T00:00:00.000000000', '2020-10-31T00:00:00.000000000'],\n",
              "      dtype='datetime64[ns]')"
            ]
          },
          "metadata": {},
          "execution_count": 84
        }
      ]
    },
    {
      "cell_type": "code",
      "source": [
        "df_lab['Close'].plot(style='-.', xlabel='purchase/sell date',\n",
        "                     ylabel='Close price', figsize=(12,6), color='#074F67', secondary_y=True)"
      ],
      "metadata": {
        "colab": {
          "base_uri": "https://localhost:8080/",
          "height": 406
        },
        "id": "z3T5HaE23Dar",
        "outputId": "ab61cf5a-9df6-4ae8-ba89-24fb196dfb65"
      },
      "execution_count": 85,
      "outputs": [
        {
          "output_type": "execute_result",
          "data": {
            "text/plain": [
              "<matplotlib.axes._subplots.AxesSubplot at 0x7f11c3eec2d0>"
            ]
          },
          "metadata": {},
          "execution_count": 85
        },
        {
          "output_type": "display_data",
          "data": {
            "image/png": "[encoded data removed]",
            "text/plain": [
              "<Figure size 864x432 with 2 Axes>"
            ]
          },
          "metadata": {
            "needs_background": "light"
          }
        }
      ]
    },
    {
      "cell_type": "code",
      "source": [
        "# replace the (target) text labels by numberic scores, so that the state-of-the-art method can understand them\n",
        "df_lab['label'] = df_lab['label'].replace({'negative':0, 'positive':1})"
      ],
      "metadata": {
        "id": "S2pi5mItL109"
      },
      "execution_count": 86,
      "outputs": []
    },
    {
      "cell_type": "code",
      "source": [
        "# Considering 'Open' price and Volume as features \n",
        "# Checking the strength of the correlation between 'Open' and Volume, in order to avoid collinearity issue in \n",
        "df_lab[['Open', 'Volume']].corr()"
      ],
      "metadata": {
        "colab": {
          "base_uri": "https://localhost:8080/",
          "height": 112
        },
        "id": "0Vgbcf1Lh-Bs",
        "outputId": "22204699-7aa6-4067-c9dd-f708eb0ce931"
      },
      "execution_count": 87,
      "outputs": [
        {
          "output_type": "execute_result",
          "data": {
            "text/html": [
              "\n",
              "  <div id=\"df-8e211355-92fc-473f-93af-a3c0989fc2e3\">\n",
              "    <div class=\"colab-df-container\">\n",
              "      <div>\n",
              "<style scoped>\n",
              "    .dataframe tbody tr th:only-of-type {\n",
              "        vertical-align: middle;\n",
              "    }\n",
              "\n",
              "    .dataframe tbody tr th {\n",
              "        vertical-align: top;\n",
              "    }\n",
              "\n",
              "    .dataframe thead th {\n",
              "        text-align: right;\n",
              "    }\n",
              "</style>\n",
              "<table border=\"1\" class=\"dataframe\">\n",
              "  <thead>\n",
              "    <tr style=\"text-align: right;\">\n",
              "      <th></th>\n",
              "      <th>Open</th>\n",
              "      <th>Volume</th>\n",
              "    </tr>\n",
              "  </thead>\n",
              "  <tbody>\n",
              "    <tr>\n",
              "      <th>Open</th>\n",
              "      <td>1.00000</td>\n",
              "      <td>0.11519</td>\n",
              "    </tr>\n",
              "    <tr>\n",
              "      <th>Volume</th>\n",
              "      <td>0.11519</td>\n",
              "      <td>1.00000</td>\n",
              "    </tr>\n",
              "  </tbody>\n",
              "</table>\n",
              "</div>\n",
              "      <button class=\"colab-df-convert\" onclick=\"convertToInteractive('df-8e211355-92fc-473f-93af-a3c0989fc2e3')\"\n",
              "              title=\"Convert this dataframe to an interactive table.\"\n",
              "              style=\"display:none;\">\n",
              "        \n",
              "  <svg xmlns=\"http://www.w3.org/2000/svg\" height=\"24px\"viewBox=\"0 0 24 24\"\n",
              "       width=\"24px\">\n",
              "    <path d=\"M0 0h24v24H0V0z\" fill=\"none\"/>\n",
              "    <path d=\"M18.56 5.44l.94 2.06.94-2.06 2.06-.94-2.06-.94-.94-2.06-.94 2.06-2.06.94zm-11 1L8.5 8.5l.94-2.06 2.06-.94-2.06-.94L8.5 2.5l-.94 2.06-2.06.94zm10 10l.94 2.06.94-2.06 2.06-.94-2.06-.94-.94-2.06-.94 2.06-2.06.94z\"/><path d=\"M17.41 7.96l-1.37-1.37c-.4-.4-.92-.59-1.43-.59-.52 0-1.04.2-1.43.59L10.3 9.45l-7.72 7.72c-.78.78-.78 2.05 0 2.83L4 21.41c.39.39.9.59 1.41.59.51 0 1.02-.2 1.41-.59l7.78-7.78 2.81-2.81c.8-.78.8-2.07 0-2.86zM5.41 20L4 18.59l7.72-7.72 1.47 1.35L5.41 20z\"/>\n",
              "  </svg>\n",
              "      </button>\n",
              "      \n",
              "  <style>\n",
              "    .colab-df-container {\n",
              "      display:flex;\n",
              "      flex-wrap:wrap;\n",
              "      gap: 12px;\n",
              "    }\n",
              "\n",
              "    .colab-df-convert {\n",
              "      background-color: #E8F0FE;\n",
              "      border: none;\n",
              "      border-radius: 50%;\n",
              "      cursor: pointer;\n",
              "      display: none;\n",
              "      fill: #1967D2;\n",
              "      height: 32px;\n",
              "      padding: 0 0 0 0;\n",
              "      width: 32px;\n",
              "    }\n",
              "\n",
              "    .colab-df-convert:hover {\n",
              "      background-color: #E2EBFA;\n",
              "      box-shadow: 0px 1px 2px rgba(60, 64, 67, 0.3), 0px 1px 3px 1px rgba(60, 64, 67, 0.15);\n",
              "      fill: #174EA6;\n",
              "    }\n",
              "\n",
              "    [theme=dark] .colab-df-convert {\n",
              "      background-color: #3B4455;\n",
              "      fill: #D2E3FC;\n",
              "    }\n",
              "\n",
              "    [theme=dark] .colab-df-convert:hover {\n",
              "      background-color: #434B5C;\n",
              "      box-shadow: 0px 1px 3px 1px rgba(0, 0, 0, 0.15);\n",
              "      filter: drop-shadow(0px 1px 2px rgba(0, 0, 0, 0.3));\n",
              "      fill: #FFFFFF;\n",
              "    }\n",
              "  </style>\n",
              "\n",
              "      <script>\n",
              "        const buttonEl =\n",
              "          document.querySelector('#df-8e211355-92fc-473f-93af-a3c0989fc2e3 button.colab-df-convert');\n",
              "        buttonEl.style.display =\n",
              "          google.colab.kernel.accessAllowed ? 'block' : 'none';\n",
              "\n",
              "        async function convertToInteractive(key) {\n",
              "          const element = document.querySelector('#df-8e211355-92fc-473f-93af-a3c0989fc2e3');\n",
              "          const dataTable =\n",
              "            await google.colab.kernel.invokeFunction('convertToInteractive',\n",
              "                                                     [key], {});\n",
              "          if (!dataTable) return;\n",
              "\n",
              "          const docLinkHtml = 'Like what you see? Visit the ' +\n",
              "            '<a target=\"_blank\" href=https://colab.research.google.com/notebooks/data_table.ipynb>data table notebook</a>'\n",
              "            + ' to learn more about interactive tables.';\n",
              "          element.innerHTML = '';\n",
              "          dataTable['output_type'] = 'display_data';\n",
              "          await google.colab.output.renderOutput(dataTable, element);\n",
              "          const docLink = document.createElement('div');\n",
              "          docLink.innerHTML = docLinkHtml;\n",
              "          element.appendChild(docLink);\n",
              "        }\n",
              "      </script>\n",
              "    </div>\n",
              "  </div>\n",
              "  "
            ],
            "text/plain": [
              "           Open   Volume\n",
              "Open    1.00000  0.11519\n",
              "Volume  0.11519  1.00000"
            ]
          },
          "metadata": {},
          "execution_count": 87
        }
      ]
    },
    {
      "cell_type": "code",
      "source": [
        ""
      ],
      "metadata": {
        "id": "Omd9HFSbpZSc"
      },
      "execution_count": 87,
      "outputs": []
    },
    {
      "cell_type": "markdown",
      "source": [
        "# **Scaling features' values**"
      ],
      "metadata": {
        "id": "9-tpxNVJpwMX"
      }
    },
    {
      "cell_type": "markdown",
      "source": [
        "---\n",
        " * Standardize values for less memory usage and precision "
      ],
      "metadata": {
        "id": "XVK964ZIqFcE"
      }
    },
    {
      "cell_type": "code",
      "source": [
        "def feat_scale():\n",
        "  scaler = MinMaxScaler()\n",
        "  transform = scaler.fit_transform(df_lab[['Open', 'Volume']])\n",
        "  df_feat = pd.DataFrame(data=transform, columns=['Open', 'Volume'])\n",
        "  return df_feat\n",
        "df_feat = feat_scale()\n",
        "df_feat.tail()"
      ],
      "metadata": {
        "colab": {
          "base_uri": "https://localhost:8080/",
          "height": 206
        },
        "id": "X5jwQdovbu5m",
        "outputId": "d288cff5-6b88-4595-9a34-470272a2163a"
      },
      "execution_count": 88,
      "outputs": [
        {
          "output_type": "execute_result",
          "data": {
            "text/html": [
              "\n",
              "  <div id=\"df-336029c7-c034-432b-819f-0dab82b36e5b\">\n",
              "    <div class=\"colab-df-container\">\n",
              "      <div>\n",
              "<style scoped>\n",
              "    .dataframe tbody tr th:only-of-type {\n",
              "        vertical-align: middle;\n",
              "    }\n",
              "\n",
              "    .dataframe tbody tr th {\n",
              "        vertical-align: top;\n",
              "    }\n",
              "\n",
              "    .dataframe thead th {\n",
              "        text-align: right;\n",
              "    }\n",
              "</style>\n",
              "<table border=\"1\" class=\"dataframe\">\n",
              "  <thead>\n",
              "    <tr style=\"text-align: right;\">\n",
              "      <th></th>\n",
              "      <th>Open</th>\n",
              "      <th>Volume</th>\n",
              "    </tr>\n",
              "  </thead>\n",
              "  <tbody>\n",
              "    <tr>\n",
              "      <th>13713</th>\n",
              "      <td>0.926092</td>\n",
              "      <td>0.011500</td>\n",
              "    </tr>\n",
              "    <tr>\n",
              "      <th>13714</th>\n",
              "      <td>0.929890</td>\n",
              "      <td>0.028782</td>\n",
              "    </tr>\n",
              "    <tr>\n",
              "      <th>13715</th>\n",
              "      <td>0.937094</td>\n",
              "      <td>0.018609</td>\n",
              "    </tr>\n",
              "    <tr>\n",
              "      <th>13716</th>\n",
              "      <td>0.929759</td>\n",
              "      <td>0.020786</td>\n",
              "    </tr>\n",
              "    <tr>\n",
              "      <th>13717</th>\n",
              "      <td>0.922293</td>\n",
              "      <td>0.029473</td>\n",
              "    </tr>\n",
              "  </tbody>\n",
              "</table>\n",
              "</div>\n",
              "      <button class=\"colab-df-convert\" onclick=\"convertToInteractive('df-336029c7-c034-432b-819f-0dab82b36e5b')\"\n",
              "              title=\"Convert this dataframe to an interactive table.\"\n",
              "              style=\"display:none;\">\n",
              "        \n",
              "  <svg xmlns=\"http://www.w3.org/2000/svg\" height=\"24px\"viewBox=\"0 0 24 24\"\n",
              "       width=\"24px\">\n",
              "    <path d=\"M0 0h24v24H0V0z\" fill=\"none\"/>\n",
              "    <path d=\"M18.56 5.44l.94 2.06.94-2.06 2.06-.94-2.06-.94-.94-2.06-.94 2.06-2.06.94zm-11 1L8.5 8.5l.94-2.06 2.06-.94-2.06-.94L8.5 2.5l-.94 2.06-2.06.94zm10 10l.94 2.06.94-2.06 2.06-.94-2.06-.94-.94-2.06-.94 2.06-2.06.94z\"/><path d=\"M17.41 7.96l-1.37-1.37c-.4-.4-.92-.59-1.43-.59-.52 0-1.04.2-1.43.59L10.3 9.45l-7.72 7.72c-.78.78-.78 2.05 0 2.83L4 21.41c.39.39.9.59 1.41.59.51 0 1.02-.2 1.41-.59l7.78-7.78 2.81-2.81c.8-.78.8-2.07 0-2.86zM5.41 20L4 18.59l7.72-7.72 1.47 1.35L5.41 20z\"/>\n",
              "  </svg>\n",
              "      </button>\n",
              "      \n",
              "  <style>\n",
              "    .colab-df-container {\n",
              "      display:flex;\n",
              "      flex-wrap:wrap;\n",
              "      gap: 12px;\n",
              "    }\n",
              "\n",
              "    .colab-df-convert {\n",
              "      background-color: #E8F0FE;\n",
              "      border: none;\n",
              "      border-radius: 50%;\n",
              "      cursor: pointer;\n",
              "      display: none;\n",
              "      fill: #1967D2;\n",
              "      height: 32px;\n",
              "      padding: 0 0 0 0;\n",
              "      width: 32px;\n",
              "    }\n",
              "\n",
              "    .colab-df-convert:hover {\n",
              "      background-color: #E2EBFA;\n",
              "      box-shadow: 0px 1px 2px rgba(60, 64, 67, 0.3), 0px 1px 3px 1px rgba(60, 64, 67, 0.15);\n",
              "      fill: #174EA6;\n",
              "    }\n",
              "\n",
              "    [theme=dark] .colab-df-convert {\n",
              "      background-color: #3B4455;\n",
              "      fill: #D2E3FC;\n",
              "    }\n",
              "\n",
              "    [theme=dark] .colab-df-convert:hover {\n",
              "      background-color: #434B5C;\n",
              "      box-shadow: 0px 1px 3px 1px rgba(0, 0, 0, 0.15);\n",
              "      filter: drop-shadow(0px 1px 2px rgba(0, 0, 0, 0.3));\n",
              "      fill: #FFFFFF;\n",
              "    }\n",
              "  </style>\n",
              "\n",
              "      <script>\n",
              "        const buttonEl =\n",
              "          document.querySelector('#df-336029c7-c034-432b-819f-0dab82b36e5b button.colab-df-convert');\n",
              "        buttonEl.style.display =\n",
              "          google.colab.kernel.accessAllowed ? 'block' : 'none';\n",
              "\n",
              "        async function convertToInteractive(key) {\n",
              "          const element = document.querySelector('#df-336029c7-c034-432b-819f-0dab82b36e5b');\n",
              "          const dataTable =\n",
              "            await google.colab.kernel.invokeFunction('convertToInteractive',\n",
              "                                                     [key], {});\n",
              "          if (!dataTable) return;\n",
              "\n",
              "          const docLinkHtml = 'Like what you see? Visit the ' +\n",
              "            '<a target=\"_blank\" href=https://colab.research.google.com/notebooks/data_table.ipynb>data table notebook</a>'\n",
              "            + ' to learn more about interactive tables.';\n",
              "          element.innerHTML = '';\n",
              "          dataTable['output_type'] = 'display_data';\n",
              "          await google.colab.output.renderOutput(dataTable, element);\n",
              "          const docLink = document.createElement('div');\n",
              "          docLink.innerHTML = docLinkHtml;\n",
              "          element.appendChild(docLink);\n",
              "        }\n",
              "      </script>\n",
              "    </div>\n",
              "  </div>\n",
              "  "
            ],
            "text/plain": [
              "           Open    Volume\n",
              "13713  0.926092  0.011500\n",
              "13714  0.929890  0.028782\n",
              "13715  0.937094  0.018609\n",
              "13716  0.929759  0.020786\n",
              "13717  0.922293  0.029473"
            ]
          },
          "metadata": {},
          "execution_count": 88
        }
      ]
    },
    {
      "cell_type": "code",
      "source": [
        "X_train, X_test, y_train, y_test = train_test_split(df_feat, df_lab['label'], test_size=0.25, stratify=df_lab['label'])"
      ],
      "metadata": {
        "id": "Yx5kVsA7inev"
      },
      "execution_count": 89,
      "outputs": []
    },
    {
      "cell_type": "code",
      "source": [
        "nb = GaussianNB()\n",
        "lr = LogisticRegression(max_iter = 2000)\n",
        "dt = DecisionTreeClassifier(max_depth=10, random_state = 42)\n",
        "rf = RandomForestClassifier(max_depth=5, random_state = 42)\n",
        "svc = SVC(probability = True, C=1)\n",
        "knn = KNeighborsClassifier(n_neighbors=7)\n",
        "xgb = XGBClassifier(random_state =1)\n",
        "# vot = VotingClassifier(\n",
        "#     estimators = [('nb',nb), ('lr',lr), ('dt',dt), ('rf',rf), ('svc',svc), ('knn',knn), ('xgb',xgb)],\n",
        "#     voting = 'soft'\n",
        "# )\n",
        "\n",
        "models = [nb, lr, dt, rf,  svc, knn, xgb ] # lr, vot, xgb, nb, svc,\n",
        "models_name = [\n",
        "   \"Naive Bayes\",\n",
        "   \"Logistic Regression\",\n",
        "    \"Decision Tree\",\n",
        "    \"Random Forest\",\n",
        "    \"SVM\",\n",
        "    \"K-Nearest Neighbor\",\n",
        "    \"XGBoost\",\n",
        "    #\"Voting\"\n",
        "]"
      ],
      "metadata": {
        "id": "N9vVMRm4bxIm"
      },
      "execution_count": 90,
      "outputs": []
    },
    {
      "cell_type": "code",
      "source": [
        "## Results based on Cross validation\n",
        "results_cv = {}\n",
        "\n",
        "for index, model in enumerate(models):\n",
        "    cv = cross_val_score(model, X_train, y_train, cv=10)  # 10 fold cross validation\n",
        "    results_cv[models_name[index]] = cv.mean() * 100.0\n",
        "    print(\"Baseline using\", models_name[index], \"=\", cv.mean() * 100.0, \"%\", \"with std:\", cv.std())"
      ],
      "metadata": {
        "colab": {
          "base_uri": "https://localhost:8080/"
        },
        "id": "emkAfsETfUsD",
        "outputId": "981bfa53-5271-4754-9f97-725bae9e72c3"
      },
      "execution_count": 91,
      "outputs": [
        {
          "output_type": "stream",
          "name": "stdout",
          "text": [
            "Baseline using Naive Bayes = 96.30637580212739 % with std: 0.0004352699270010648\n",
            "Baseline using Logistic Regression = 96.32583105504568 % with std: 0.0003747357753551839\n",
            "Baseline using Decision Tree = 95.70374508891938 % with std: 0.0031862144510243044\n",
            "Baseline using Random Forest = 96.32583105504568 % with std: 0.0003747357753551839\n",
            "Baseline using SVM = 96.32583105504568 % with std: 0.0003747357753551839\n",
            "Baseline using K-Nearest Neighbor = 96.24808567117785 % with std: 0.0013802447942685633\n",
            "Baseline using XGBoost = 96.32583105504568 % with std: 0.0003747357753551839\n"
          ]
        }
      ]
    },
    {
      "cell_type": "code",
      "source": [
        "# results without CV\n",
        "results = {}\n",
        "\n",
        "for index, model in enumerate(models):\n",
        "    model.fit(X_train, y_train)\n",
        "    predict = (model.predict(X_test) > 0.8).astype(int)\n",
        "    confuse = confusion_matrix(y_test, predict)\n",
        "    accur = accuracy_score(y_test, predict)\n",
        "    results[models_name[index]] = accur * 100.0\n",
        "    \n",
        "    title = models_name[index] + \": \" + \"{:.3f}%\".format(accur*100) + \" accurate\\n\"\n",
        "    ax = sns.heatmap(confuse/np.sum(confuse), annot=True, fmt='.1%', cmap=\"Greens\")\n",
        "    ax.set_title(title)\n",
        "    plt.show()"
      ],
      "metadata": {
        "colab": {
          "base_uri": "https://localhost:8080/",
          "height": 1000
        },
        "id": "7Ec3Vlktfnpb",
        "outputId": "64e62e4c-5fc1-455c-d8a8-1a1ab9e33c92"
      },
      "execution_count": 92,
      "outputs": [
        {
          "output_type": "display_data",
          "data": {
            "image/png": "[encoded data removed]",
            "text/plain": [
              "<Figure size 432x288 with 2 Axes>"
            ]
          },
          "metadata": {
            "needs_background": "light"
          }
        },
        {
          "output_type": "display_data",
          "data": {
            "image/png": "[encoded data removed]",
            "text/plain": [
              "<Figure size 432x288 with 2 Axes>"
            ]
          },
          "metadata": {
            "needs_background": "light"
          }
        },
        {
          "output_type": "display_data",
          "data": {
            "image/png": "[encoded data removed]",
            "text/plain": [
              "<Figure size 432x288 with 2 Axes>"
            ]
          },
          "metadata": {
            "needs_background": "light"
          }
        },
        {
          "output_type": "display_data",
          "data": {
            "image/png": "[encoded data removed]",
            "text/plain": [
              "<Figure size 432x288 with 2 Axes>"
            ]
          },
          "metadata": {
            "needs_background": "light"
          }
        },
        {
          "output_type": "display_data",
          "data": {
            "image/png": "[encoded data removed]",
            "text/plain": [
              "<Figure size 432x288 with 2 Axes>"
            ]
          },
          "metadata": {
            "needs_background": "light"
          }
        },
        {
          "output_type": "display_data",
          "data": {
            "image/png": "[encoded data removed]",
            "text/plain": [
              "<Figure size 432x288 with 2 Axes>"
            ]
          },
          "metadata": {
            "needs_background": "light"
          }
        },
        {
          "output_type": "display_data",
          "data": {
            "image/png": "[encoded data removed]",
            "text/plain": [
              "<Figure size 432x288 with 2 Axes>"
            ]
          },
          "metadata": {
            "needs_background": "light"
          }
        }
      ]
    },
    {
      "cell_type": "code",
      "source": [
        "x = np.arange(len(results))\n",
        "\n",
        "plt.figure(figsize=(4,4))\n",
        "ax = plt.subplot(111)\n",
        "plt.bar(x, results.values(), width=0.4, color=\"r\", align=\"center\")\n",
        "ax.bar(x+0.4, results_cv.values(), width=0.4, color=\"c\", align=\"center\")\n",
        "ax.legend((\"Base\", \"final\"), bbox_to_anchor=(1.05, 1))\n",
        "plt.ylim((50, 100))\n",
        "plt.xticks(x+0.4, results.keys())\n",
        "plt.title(\"Performance comparison\")\n",
        "plt.xticks(rotation=40, horizontalalignment=\"right\")\n",
        "plt.ylabel('Accuracy, %')\n",
        "plt.show()"
      ],
      "metadata": {
        "colab": {
          "base_uri": "https://localhost:8080/",
          "height": 341
        },
        "id": "PhIfQPPxfph7",
        "outputId": "9ca13cbb-61da-4f1f-e2ef-cfe48ea70d90"
      },
      "execution_count": 116,
      "outputs": [
        {
          "output_type": "display_data",
          "data": {
            "image/png": "[encoded data removed]",
            "text/plain": [
              "<Figure size 288x288 with 1 Axes>"
            ]
          },
          "metadata": {
            "needs_background": "light"
          }
        }
      ]
    },
    {
      "cell_type": "markdown",
      "source": [
        "## **Mitigation for data imblance problem**\n",
        "___\n",
        "* From the above results, it looks the models are predicting the majority class.\n",
        "* I consider down sampling approach (down sample the majority (negative)class to the size of positive investments) as a mitigation."
      ],
      "metadata": {
        "id": "Bbt3_fB5sqDD"
      }
    },
    {
      "cell_type": "code",
      "source": [
        "# Get the negative and positive investiments separately\n",
        "df_label_0 = df_lab[df_lab.label==0]\n",
        "df_label_1 = df_lab[df_lab.label==1]"
      ],
      "metadata": {
        "id": "lTIQGzt_kDhz"
      },
      "execution_count": 94,
      "outputs": []
    },
    {
      "cell_type": "code",
      "source": [
        "# randomly sample down the negative investments\n",
        "df_label_0_under = df_label_0.sample(len(df_label_1))\n",
        "df_label_0_under.shape"
      ],
      "metadata": {
        "colab": {
          "base_uri": "https://localhost:8080/"
        },
        "id": "y5HS7vlnmoPb",
        "outputId": "d2a6a7ec-0070-4b00-bb52-5347600635cc"
      },
      "execution_count": 95,
      "outputs": [
        {
          "output_type": "execute_result",
          "data": {
            "text/plain": [
              "(504, 11)"
            ]
          },
          "metadata": {},
          "execution_count": 95
        }
      ]
    },
    {
      "cell_type": "code",
      "source": [
        "# Merge the two data frames\n",
        "df_merged = pd.concat([df_label_0_under, df_label_1], axis=0)\n",
        "df_merged.shape"
      ],
      "metadata": {
        "colab": {
          "base_uri": "https://localhost:8080/"
        },
        "id": "Fo-OqAU_qk5U",
        "outputId": "8a30b528-7350-447a-ab4e-8b6cecaee8fa"
      },
      "execution_count": 96,
      "outputs": [
        {
          "output_type": "execute_result",
          "data": {
            "text/plain": [
              "(1008, 11)"
            ]
          },
          "metadata": {},
          "execution_count": 96
        }
      ]
    },
    {
      "cell_type": "code",
      "source": [
        "df_merged.head()"
      ],
      "metadata": {
        "colab": {
          "base_uri": "https://localhost:8080/",
          "height": 206
        },
        "id": "bDlgDrgascFU",
        "outputId": "0cfef4b3-eda8-4904-a05c-8c9893282975"
      },
      "execution_count": 97,
      "outputs": [
        {
          "output_type": "execute_result",
          "data": {
            "text/html": [
              "\n",
              "  <div id=\"df-ff446827-4072-4340-913a-b32cce9cc58b\">\n",
              "    <div class=\"colab-df-container\">\n",
              "      <div>\n",
              "<style scoped>\n",
              "    .dataframe tbody tr th:only-of-type {\n",
              "        vertical-align: middle;\n",
              "    }\n",
              "\n",
              "    .dataframe tbody tr th {\n",
              "        vertical-align: top;\n",
              "    }\n",
              "\n",
              "    .dataframe thead th {\n",
              "        text-align: right;\n",
              "    }\n",
              "</style>\n",
              "<table border=\"1\" class=\"dataframe\">\n",
              "  <thead>\n",
              "    <tr style=\"text-align: right;\">\n",
              "      <th></th>\n",
              "      <th>Date</th>\n",
              "      <th>Open</th>\n",
              "      <th>High</th>\n",
              "      <th>Low</th>\n",
              "      <th>Close</th>\n",
              "      <th>Volume</th>\n",
              "      <th>Dividends</th>\n",
              "      <th>Stock Splits</th>\n",
              "      <th>weekday_name</th>\n",
              "      <th>profit</th>\n",
              "      <th>label</th>\n",
              "    </tr>\n",
              "  </thead>\n",
              "  <tbody>\n",
              "    <tr>\n",
              "      <th>6202</th>\n",
              "      <td>1991-03-05</td>\n",
              "      <td>4.518734</td>\n",
              "      <td>4.605300</td>\n",
              "      <td>4.484108</td>\n",
              "      <td>4.587986</td>\n",
              "      <td>4240000</td>\n",
              "      <td>0.02125</td>\n",
              "      <td>0.0</td>\n",
              "      <td>Tuesday</td>\n",
              "      <td>0.041354</td>\n",
              "      <td>0</td>\n",
              "    </tr>\n",
              "    <tr>\n",
              "      <th>8058</th>\n",
              "      <td>1998-07-08</td>\n",
              "      <td>21.602187</td>\n",
              "      <td>21.620494</td>\n",
              "      <td>21.181127</td>\n",
              "      <td>21.382504</td>\n",
              "      <td>4408200</td>\n",
              "      <td>0.00000</td>\n",
              "      <td>0.0</td>\n",
              "      <td>Wednesday</td>\n",
              "      <td>-0.004233</td>\n",
              "      <td>0</td>\n",
              "    </tr>\n",
              "    <tr>\n",
              "      <th>10416</th>\n",
              "      <td>2007-11-20</td>\n",
              "      <td>39.501120</td>\n",
              "      <td>39.642679</td>\n",
              "      <td>39.029265</td>\n",
              "      <td>39.420231</td>\n",
              "      <td>9414700</td>\n",
              "      <td>0.00000</td>\n",
              "      <td>0.0</td>\n",
              "      <td>Tuesday</td>\n",
              "      <td>0.010883</td>\n",
              "      <td>0</td>\n",
              "    </tr>\n",
              "    <tr>\n",
              "      <th>9328</th>\n",
              "      <td>2003-07-28</td>\n",
              "      <td>12.924778</td>\n",
              "      <td>12.997661</td>\n",
              "      <td>12.724347</td>\n",
              "      <td>12.912630</td>\n",
              "      <td>4591600</td>\n",
              "      <td>0.00000</td>\n",
              "      <td>0.0</td>\n",
              "      <td>Monday</td>\n",
              "      <td>0.088318</td>\n",
              "      <td>0</td>\n",
              "    </tr>\n",
              "    <tr>\n",
              "      <th>6731</th>\n",
              "      <td>1993-04-06</td>\n",
              "      <td>7.288112</td>\n",
              "      <td>7.305758</td>\n",
              "      <td>7.076350</td>\n",
              "      <td>7.182231</td>\n",
              "      <td>4988400</td>\n",
              "      <td>0.00000</td>\n",
              "      <td>0.0</td>\n",
              "      <td>Tuesday</td>\n",
              "      <td>-0.019324</td>\n",
              "      <td>0</td>\n",
              "    </tr>\n",
              "  </tbody>\n",
              "</table>\n",
              "</div>\n",
              "      <button class=\"colab-df-convert\" onclick=\"convertToInteractive('df-ff446827-4072-4340-913a-b32cce9cc58b')\"\n",
              "              title=\"Convert this dataframe to an interactive table.\"\n",
              "              style=\"display:none;\">\n",
              "        \n",
              "  <svg xmlns=\"http://www.w3.org/2000/svg\" height=\"24px\"viewBox=\"0 0 24 24\"\n",
              "       width=\"24px\">\n",
              "    <path d=\"M0 0h24v24H0V0z\" fill=\"none\"/>\n",
              "    <path d=\"M18.56 5.44l.94 2.06.94-2.06 2.06-.94-2.06-.94-.94-2.06-.94 2.06-2.06.94zm-11 1L8.5 8.5l.94-2.06 2.06-.94-2.06-.94L8.5 2.5l-.94 2.06-2.06.94zm10 10l.94 2.06.94-2.06 2.06-.94-2.06-.94-.94-2.06-.94 2.06-2.06.94z\"/><path d=\"M17.41 7.96l-1.37-1.37c-.4-.4-.92-.59-1.43-.59-.52 0-1.04.2-1.43.59L10.3 9.45l-7.72 7.72c-.78.78-.78 2.05 0 2.83L4 21.41c.39.39.9.59 1.41.59.51 0 1.02-.2 1.41-.59l7.78-7.78 2.81-2.81c.8-.78.8-2.07 0-2.86zM5.41 20L4 18.59l7.72-7.72 1.47 1.35L5.41 20z\"/>\n",
              "  </svg>\n",
              "      </button>\n",
              "      \n",
              "  <style>\n",
              "    .colab-df-container {\n",
              "      display:flex;\n",
              "      flex-wrap:wrap;\n",
              "      gap: 12px;\n",
              "    }\n",
              "\n",
              "    .colab-df-convert {\n",
              "      background-color: #E8F0FE;\n",
              "      border: none;\n",
              "      border-radius: 50%;\n",
              "      cursor: pointer;\n",
              "      display: none;\n",
              "      fill: #1967D2;\n",
              "      height: 32px;\n",
              "      padding: 0 0 0 0;\n",
              "      width: 32px;\n",
              "    }\n",
              "\n",
              "    .colab-df-convert:hover {\n",
              "      background-color: #E2EBFA;\n",
              "      box-shadow: 0px 1px 2px rgba(60, 64, 67, 0.3), 0px 1px 3px 1px rgba(60, 64, 67, 0.15);\n",
              "      fill: #174EA6;\n",
              "    }\n",
              "\n",
              "    [theme=dark] .colab-df-convert {\n",
              "      background-color: #3B4455;\n",
              "      fill: #D2E3FC;\n",
              "    }\n",
              "\n",
              "    [theme=dark] .colab-df-convert:hover {\n",
              "      background-color: #434B5C;\n",
              "      box-shadow: 0px 1px 3px 1px rgba(0, 0, 0, 0.15);\n",
              "      filter: drop-shadow(0px 1px 2px rgba(0, 0, 0, 0.3));\n",
              "      fill: #FFFFFF;\n",
              "    }\n",
              "  </style>\n",
              "\n",
              "      <script>\n",
              "        const buttonEl =\n",
              "          document.querySelector('#df-ff446827-4072-4340-913a-b32cce9cc58b button.colab-df-convert');\n",
              "        buttonEl.style.display =\n",
              "          google.colab.kernel.accessAllowed ? 'block' : 'none';\n",
              "\n",
              "        async function convertToInteractive(key) {\n",
              "          const element = document.querySelector('#df-ff446827-4072-4340-913a-b32cce9cc58b');\n",
              "          const dataTable =\n",
              "            await google.colab.kernel.invokeFunction('convertToInteractive',\n",
              "                                                     [key], {});\n",
              "          if (!dataTable) return;\n",
              "\n",
              "          const docLinkHtml = 'Like what you see? Visit the ' +\n",
              "            '<a target=\"_blank\" href=https://colab.research.google.com/notebooks/data_table.ipynb>data table notebook</a>'\n",
              "            + ' to learn more about interactive tables.';\n",
              "          element.innerHTML = '';\n",
              "          dataTable['output_type'] = 'display_data';\n",
              "          await google.colab.output.renderOutput(dataTable, element);\n",
              "          const docLink = document.createElement('div');\n",
              "          docLink.innerHTML = docLinkHtml;\n",
              "          element.appendChild(docLink);\n",
              "        }\n",
              "      </script>\n",
              "    </div>\n",
              "  </div>\n",
              "  "
            ],
            "text/plain": [
              "            Date       Open       High  ...  weekday_name    profit  label\n",
              "6202  1991-03-05   4.518734   4.605300  ...       Tuesday  0.041354      0\n",
              "8058  1998-07-08  21.602187  21.620494  ...     Wednesday -0.004233      0\n",
              "10416 2007-11-20  39.501120  39.642679  ...       Tuesday  0.010883      0\n",
              "9328  2003-07-28  12.924778  12.997661  ...        Monday  0.088318      0\n",
              "6731  1993-04-06   7.288112   7.305758  ...       Tuesday -0.019324      0\n",
              "\n",
              "[5 rows x 11 columns]"
            ]
          },
          "metadata": {},
          "execution_count": 97
        }
      ]
    },
    {
      "cell_type": "code",
      "source": [
        "X_train, X_test, y_train, y_test = train_test_split(df_merged[['Open', 'Volume']],\n",
        "                                                    df_merged['label'], test_size=0.25)"
      ],
      "metadata": {
        "id": "EABnexQ7tFUV"
      },
      "execution_count": 118,
      "outputs": []
    },
    {
      "cell_type": "code",
      "source": [
        "results_cv_down = {}\n",
        "\n",
        "for index, model in enumerate(models):\n",
        "    cv = cross_val_score(model, X_train, y_train, cv=10)  # 10 fold cross validation\n",
        "    results_cv_down[models_name[index]] = cv.mean() * 100.0\n",
        "    print(\"Baseline using\", models_name[index], \"=\", cv.mean() * 100.0, \"%\", \"with std:\", cv.std())"
      ],
      "metadata": {
        "colab": {
          "base_uri": "https://localhost:8080/"
        },
        "id": "u3kZetQ3sqpT",
        "outputId": "3ff99f1c-c237-44cb-bb18-8526d6034908"
      },
      "execution_count": 119,
      "outputs": [
        {
          "output_type": "stream",
          "name": "stdout",
          "text": [
            "Baseline using Naive Bayes = 56.20175438596491 % with std: 0.05486356507323781\n",
            "Baseline using Logistic Regression = 50.26666666666667 % with std: 0.003265986323710925\n",
            "Baseline using Decision Tree = 72.33333333333334 % with std: 0.05457674517767603\n",
            "Baseline using Random Forest = 75.91052631578947 % with std: 0.054670869486888964\n",
            "Baseline using SVM = 58.724561403508766 % with std: 0.04875684797733051\n",
            "Baseline using K-Nearest Neighbor = 56.333333333333336 % with std: 0.06821764636869955\n",
            "Baseline using XGBoost = 77.37017543859649 % with std: 0.043529808864411955\n"
          ]
        }
      ]
    },
    {
      "cell_type": "code",
      "source": [
        "results_down = {}\n",
        "\n",
        "for index, model in enumerate(models):\n",
        "    model.fit(X_train, y_train)\n",
        "    predict = (model.predict(X_test) > 0.7)\n",
        "    confuse = confusion_matrix(y_test, predict)\n",
        "    accur = accuracy_score(y_test, predict)\n",
        "    results_down[models_name[index]] = accur * 100.0\n",
        "    \n",
        "    print(f'classification report for {models_name[index]} \\n',classification_report(y_test, predict))\n",
        "    title = models_name[index] + \": \" + \"{:.3f}%\".format(accur*100) + \" accurate\\n\"\n",
        "    ax = sns.heatmap(confuse/np.sum(confuse), annot=True, fmt='.1%', cmap=\"Greens\")\n",
        "    ax.set_title(title)\n",
        "    plt.show()"
      ],
      "metadata": {
        "colab": {
          "base_uri": "https://localhost:8080/",
          "height": 1000
        },
        "id": "bSI3L5eDs7C2",
        "outputId": "a3161903-2d98-4e57-854d-31dcd8757717"
      },
      "execution_count": 120,
      "outputs": [
        {
          "output_type": "stream",
          "name": "stdout",
          "text": [
            "classification report for Naive Bayes \n",
            "               precision    recall  f1-score   support\n",
            "\n",
            "           0       0.67      0.44      0.53       124\n",
            "           1       0.59      0.79      0.68       128\n",
            "\n",
            "    accuracy                           0.62       252\n",
            "   macro avg       0.63      0.62      0.61       252\n",
            "weighted avg       0.63      0.62      0.61       252\n",
            "\n"
          ]
        },
        {
          "output_type": "display_data",
          "data": {
            "image/png": "[encoded data removed]",
            "text/plain": [
              "<Figure size 432x288 with 2 Axes>"
            ]
          },
          "metadata": {
            "needs_background": "light"
          }
        },
        {
          "output_type": "stream",
          "name": "stderr",
          "text": [
            "/usr/local/lib/python3.7/dist-packages/sklearn/metrics/_classification.py:1308: UndefinedMetricWarning: Precision and F-score are ill-defined and being set to 0.0 in labels with no predicted samples. Use `zero_division` parameter to control this behavior.\n",
            "  _warn_prf(average, modifier, msg_start, len(result))\n",
            "/usr/local/lib/python3.7/dist-packages/sklearn/metrics/_classification.py:1308: UndefinedMetricWarning: Precision and F-score are ill-defined and being set to 0.0 in labels with no predicted samples. Use `zero_division` parameter to control this behavior.\n",
            "  _warn_prf(average, modifier, msg_start, len(result))\n",
            "/usr/local/lib/python3.7/dist-packages/sklearn/metrics/_classification.py:1308: UndefinedMetricWarning: Precision and F-score are ill-defined and being set to 0.0 in labels with no predicted samples. Use `zero_division` parameter to control this behavior.\n",
            "  _warn_prf(average, modifier, msg_start, len(result))\n"
          ]
        },
        {
          "output_type": "stream",
          "name": "stdout",
          "text": [
            "classification report for Logistic Regression \n",
            "               precision    recall  f1-score   support\n",
            "\n",
            "           0       0.49      1.00      0.66       124\n",
            "           1       0.00      0.00      0.00       128\n",
            "\n",
            "    accuracy                           0.49       252\n",
            "   macro avg       0.25      0.50      0.33       252\n",
            "weighted avg       0.24      0.49      0.32       252\n",
            "\n"
          ]
        },
        {
          "output_type": "display_data",
          "data": {
            "image/png": "[encoded data removed]",
            "text/plain": [
              "<Figure size 432x288 with 2 Axes>"
            ]
          },
          "metadata": {
            "needs_background": "light"
          }
        },
        {
          "output_type": "stream",
          "name": "stdout",
          "text": [
            "classification report for Decision Tree \n",
            "               precision    recall  f1-score   support\n",
            "\n",
            "           0       0.70      0.73      0.72       124\n",
            "           1       0.73      0.70      0.71       128\n",
            "\n",
            "    accuracy                           0.71       252\n",
            "   macro avg       0.71      0.71      0.71       252\n",
            "weighted avg       0.71      0.71      0.71       252\n",
            "\n"
          ]
        },
        {
          "output_type": "display_data",
          "data": {
            "image/png": "[encoded data removed]",
            "text/plain": [
              "<Figure size 432x288 with 2 Axes>"
            ]
          },
          "metadata": {
            "needs_background": "light"
          }
        },
        {
          "output_type": "stream",
          "name": "stdout",
          "text": [
            "classification report for Random Forest \n",
            "               precision    recall  f1-score   support\n",
            "\n",
            "           0       0.80      0.73      0.76       124\n",
            "           1       0.76      0.83      0.79       128\n",
            "\n",
            "    accuracy                           0.78       252\n",
            "   macro avg       0.78      0.78      0.78       252\n",
            "weighted avg       0.78      0.78      0.78       252\n",
            "\n"
          ]
        },
        {
          "output_type": "display_data",
          "data": {
            "image/png": "[encoded data removed]",
            "text/plain": [
              "<Figure size 432x288 with 2 Axes>"
            ]
          },
          "metadata": {
            "needs_background": "light"
          }
        },
        {
          "output_type": "stream",
          "name": "stdout",
          "text": [
            "classification report for SVM \n",
            "               precision    recall  f1-score   support\n",
            "\n",
            "           0       0.56      0.65      0.60       124\n",
            "           1       0.60      0.50      0.54       128\n",
            "\n",
            "    accuracy                           0.58       252\n",
            "   macro avg       0.58      0.58      0.57       252\n",
            "weighted avg       0.58      0.58      0.57       252\n",
            "\n"
          ]
        },
        {
          "output_type": "display_data",
          "data": {
            "image/png": "[encoded data removed]",
            "text/plain": [
              "<Figure size 432x288 with 2 Axes>"
            ]
          },
          "metadata": {
            "needs_background": "light"
          }
        },
        {
          "output_type": "stream",
          "name": "stdout",
          "text": [
            "classification report for K-Nearest Neighbor \n",
            "               precision    recall  f1-score   support\n",
            "\n",
            "           0       0.53      0.53      0.53       124\n",
            "           1       0.54      0.54      0.54       128\n",
            "\n",
            "    accuracy                           0.54       252\n",
            "   macro avg       0.54      0.54      0.54       252\n",
            "weighted avg       0.54      0.54      0.54       252\n",
            "\n"
          ]
        },
        {
          "output_type": "display_data",
          "data": {
            "image/png": "[encoded data removed]",
            "text/plain": [
              "<Figure size 432x288 with 2 Axes>"
            ]
          },
          "metadata": {
            "needs_background": "light"
          }
        },
        {
          "output_type": "stream",
          "name": "stdout",
          "text": [
            "classification report for XGBoost \n",
            "               precision    recall  f1-score   support\n",
            "\n",
            "           0       0.77      0.74      0.76       124\n",
            "           1       0.76      0.79      0.77       128\n",
            "\n",
            "    accuracy                           0.77       252\n",
            "   macro avg       0.77      0.77      0.77       252\n",
            "weighted avg       0.77      0.77      0.77       252\n",
            "\n"
          ]
        },
        {
          "output_type": "display_data",
          "data": {
            "image/png": "[encoded data removed]",
            "text/plain": [
              "<Figure size 432x288 with 2 Axes>"
            ]
          },
          "metadata": {
            "needs_background": "light"
          }
        }
      ]
    },
    {
      "cell_type": "code",
      "source": [
        "x = np.arange(len(results_down))\n",
        "\n",
        "plt.figure(figsize=(4,4))\n",
        "ax = plt.subplot(111)\n",
        "plt.bar(x, results_down.values(), width=0.4, color=\"c\", align=\"center\")\n",
        "ax.bar(x+0.4, results_cv_down.values(), width=0.4, color=\"r\", align=\"center\")\n",
        "ax.legend((\"CV_downsample\", \"downsample\"), bbox_to_anchor=(1., 1))\n",
        "plt.ylim((50, 100))\n",
        "plt.xticks(x, results_down.keys())\n",
        "plt.title(\"Performance comparison\")\n",
        "plt.xticks( rotation=40, horizontalalignment=\"right\")\n",
        "plt.ylabel('Accuracy, %')\n",
        "plt.show()\n"
      ],
      "metadata": {
        "colab": {
          "base_uri": "https://localhost:8080/",
          "height": 341
        },
        "id": "g3tQfYXCtAqA",
        "outputId": "a90943f3-f9ab-4c2c-bf49-656fa5b2b1d9"
      },
      "execution_count": 124,
      "outputs": [
        {
          "output_type": "display_data",
          "data": {
            "image/png": "[encoded data removed]",
            "text/plain": [
              "<Figure size 288x288 with 1 Axes>"
            ]
          },
          "metadata": {
            "needs_background": "light"
          }
        }
      ]
    },
    {
      "cell_type": "code",
      "source": [
        "x = np.arange(len(results_down))\n",
        "\n",
        "plt.figure(figsize=(4,4))\n",
        "ax = plt.subplot(111)\n",
        "plt.bar(x, results_down.values(), width=0.4, color=\"r\", align=\"center\")\n",
        "ax.bar(x+0.4, results_cv.values(), width=0.4, color=\"c\", align=\"center\")\n",
        "ax.legend((\"Base\", \"final\"), bbox_to_anchor=(1.05, 1))\n",
        "plt.ylim((50, 100))\n",
        "plt.xticks(x, results_down.keys())\n",
        "plt.title(\"Performance comparison\")\n",
        "plt.xticks(rotation=40, horizontalalignment=\"right\")\n",
        "plt.ylabel('Accuracy, %')\n",
        "plt.show()"
      ],
      "metadata": {
        "colab": {
          "base_uri": "https://localhost:8080/",
          "height": 341
        },
        "id": "1EWEebq-tplh",
        "outputId": "cc18240b-335f-4914-bbe1-f72fa5e2f7f1"
      },
      "execution_count": 122,
      "outputs": [
        {
          "output_type": "display_data",
          "data": {
            "image/png": "[encoded data removed]",
            "text/plain": [
              "<Figure size 288x288 with 1 Axes>"
            ]
          },
          "metadata": {
            "needs_background": "light"
          }
        }
      ]
    },
    {
      "cell_type": "code",
      "source": [
        ""
      ],
      "metadata": {
        "id": "TMyUJQKa2CL_"
      },
      "execution_count": null,
      "outputs": []
    }
  ]
}